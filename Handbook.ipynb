{
  "nbformat": 4,
  "nbformat_minor": 0,
  "metadata": {
    "colab": {
      "provenance": [],
      "authorship_tag": "ABX9TyN466IxkFa1411U1ZCN/xfE",
      "include_colab_link": true
    },
    "kernelspec": {
      "name": "python3",
      "display_name": "Python 3"
    },
    "language_info": {
      "name": "python"
    }
  },
  "cells": [
    {
      "cell_type": "markdown",
      "metadata": {
        "id": "view-in-github",
        "colab_type": "text"
      },
      "source": [
        "<a href=\"https://colab.research.google.com/github/siwakotiutsav/PythonBasicsTutorial/blob/main/Handbook.ipynb\" target=\"_parent\"><img src=\"https://colab.research.google.com/assets/colab-badge.svg\" alt=\"Open In Colab\"/></a>"
      ]
    },
    {
      "cell_type": "code",
      "source": [
        "print(\"\"\"\n",
        "________________________________________________________________________________\n",
        "|                                                                                |\n",
        "|                                                                                |\n",
        "|                                                                                |\n",
        "|                  _________________________________________                     |\n",
        "|                 |                                         |                    |\n",
        "|                 |                                         |                    |\n",
        "|                 |       Mastering Python:                 |                    |\n",
        "|                 |   A Comprehensive Guide to Unlocking    |                    |\n",
        "|                 |      the Power of Python Programming    |                    |\n",
        "|                 |                                         |                    |\n",
        "|                 |                 By                      |                    |\n",
        "|                 |            Utsav Siwakoti               |                    |\n",
        "|                 |_________________________________________|                    |\n",
        "|                                                                                |\n",
        "|                                                                                |\n",
        "|                                                                                |\n",
        "|    Welcome to the Google Colab Notebook companion to \"Mastering Python: A      |\n",
        "|    Comprehensive Guide to Unlocking the Power of Python Programming\" by        |\n",
        "|    Utsav Siwakoti. In this notebook, you will find practical examples and     |\n",
        "|    exercises from the book, allowing you to interactively experiment with     |\n",
        "|    Python code as you progress through the chapters.                           |\n",
        "|                                                                                |\n",
        "|    To get started, simply click on the \"Open in playground mode\" button        |\n",
        "|    above, and you will be able to run and modify the code cells. You can      |\n",
        "|    also save a copy of the notebook to your Google Drive for future use.      |\n",
        "|                                                                                |\n",
        "|    We hope this Colab Notebook enhances your learning experience and helps    |\n",
        "|    you become a skilled Python developer.                                     |\n",
        "|                                                                                |\n",
        "|    Happy coding!                                                              |\n",
        "|                                                                                |\n",
        "|________________________________________________________________________________|\n",
        "\"\"\")\n"
      ],
      "metadata": {
        "id": "S-vdB2v9ZnKf"
      },
      "execution_count": null,
      "outputs": []
    },
    {
      "cell_type": "markdown",
      "source": [
        "#Warning: Do not execute this notebook in its entirety, as errors may occur due to missing modules, libraries, and example files required for the file handling codes. Instead, carefully examine each line and learn from it. I have also included examples of errors that may arise if you attempt to run this notebook without thoroughly understanding the content, such as the absence of an example file.\n",
        "\n",
        "#Preface\n",
        "\n",
        "Python is a versatile, powerful, and widely-used programming language that has grown in popularity over the years. Its simple syntax, readability, and ease of use make it an ideal choice for beginners and experienced programmers alike. In an ever-evolving technological landscape, the need for skilled Python developers has never been more apparent.\n",
        "\n",
        "I, Utsav Siwakoti, have written this book to provide a comprehensive, step-by-step guide to learning Python, covering all the essential topics and concepts required to master the language. Throughout this book, you will find clear explanations, practical examples, and exercises designed to help you build a strong foundation in Python programming.\n",
        "\n",
        "This book is tailored for beginners who are new to programming or have prior experience in other languages and want to learn Python. It is also suitable for experienced Python developers looking to strengthen their understanding of the language and explore new features. Regardless of your background, this book aims to equip you with the knowledge and skills necessary to become a proficient Python programmer.\n",
        "\n",
        "The journey of learning Python is an exciting and rewarding one. As you progress through the chapters, you will gain a deeper understanding of the language and its capabilities, enabling you to tackle various programming challenges and develop sophisticated applications. Along the way, you will be introduced to best practices, popular libraries, and resources that can help you further hone your skills and stay connected with the Python community.\n",
        "\n",
        "I hope that this book serves as a valuable resource and guide for your Python journey. Your dedication, curiosity, and persistence will undoubtedly lead you to success in the world of Python programming.\n",
        "\n",
        "Happy coding!\n",
        "\n",
        "Utsav Siwakoti"
      ],
      "metadata": {
        "id": "AR83CDGEYLyd"
      }
    },
    {
      "cell_type": "markdown",
      "source": [
        "#Python Tutorial Book Outline\n",
        "##1. Introduction to Python\n",
        "#####History of Python\n",
        "#####Python 2 vs Python 3\n",
        "#####Python's strengths and weaknesses\n",
        "#####Installing Python and setting up the environment\n",
        "#####Python IDEs and text editors\n",
        "##2. Getting Started with Python\n",
        "###Running Python code: interactive mode, scripts, and IDEs\n",
        "#####Python syntax basics\n",
        "#####Comments in Python\n",
        "#####Variables and data types\n",
        "#####Numeric: integers, floats\n",
        "#####Strings\n",
        "#####Booleans\n",
        "#####None\n",
        "##3. Python Operators\n",
        "#####Arithmetic operators\n",
        "#####Comparison operators\n",
        "#####Logical operators\n",
        "#####Bitwise operators\n",
        "#####Assignment operators\n",
        "#####Bitwise operators\n",
        "#####Membership operators\n",
        "#####Identity operators\n",
        "##4. Control Flow\n",
        "#####if statements\n",
        "#####elif and else clauses\n",
        "#####Nested if statements\n",
        "#####for loops\n",
        "#####while loops\n",
        "#####Loop control: break, continue, and else\n",
        "##5. Functions\n",
        "#####Defining functions\n",
        "#####Function arguments: positional, keyword, and default values\n",
        "#####Variable-length arguments: *args and **kwargs\n",
        "#####Returning values from functions\n",
        "#####Lambda functions\n",
        "#####Built-in functions\n",
        "##6. Data Structures\n",
        "#####Lists: definition, indexing, slicing, and built-in methods\n",
        "#####Tuples: definition, indexing, slicing, and immutability\n",
        "#####Sets: definition, set operations, and built-in methods\n",
        "#####Dictionaries: definition, keys, values, and built-in methods\n",
        "##7. Modules and Packages\n",
        "#####Importing modules\n",
        "#####Standard library modules\n",
        "#####Creating custom modules\n",
        "#####Organizing modules in packages\n",
        "#####Installing and using third-party packages\n",
        "##8. File I/O\n",
        "#####Opening and closing files\n",
        "#####Reading from files\n",
        "#####Writing to files\n",
        "#####File modes and buffering\n",
        "#####Working with directories\n",
        "##9. Error Handling\n",
        "#####Syntax errors vs. exceptions\n",
        "#####Common exceptions in Python\n",
        "#####Handling exceptions with try and except\n",
        "#####Using finally and else in exception handling\n",
        "#####Raising exceptions with raise\n",
        "#####Creating custom exceptions\n",
        "##10. Object-Oriented Programming (OOP)\n",
        "#####Introduction to OOP\n",
        "#####Defining classes and creating objects\n",
        "#####Instance variables and methods\n",
        "#####Class variables and methods\n",
        "#####Inheritance and polymorphism\n",
        "#####Encapsulation and property decorators\n",
        "##11. Useful Python Libraries\n",
        "#####math: mathematical functions\n",
        "#####random: generating random numbers\n",
        "#####datetime: working with dates and times\n",
        "#####os: operating system interfaces\n",
        "#####re: regular expressions\n",
        "#####json: working with JSON data\n",
        "##12. Conclusion\n",
        "#####Summary of the book\n",
        "#####Next steps in learning Python\n",
        "#####Python coding resources and communities"
      ],
      "metadata": {
        "id": "0nQEjQn2-f99"
      }
    },
    {
      "cell_type": "markdown",
      "source": [
        "# Chapter 1: Introduction to Python\n",
        "## 1.1 History of Python\n",
        "Python is a high-level, interpreted, and general-purpose programming language created by Guido van Rossum. It was first released in 1991, and since then, it has seen consistent growth and adoption in various industries. Python emphasizes readability, simplicity, and elegance in its syntax, making it an excellent language for beginners and experienced developers alike.\n",
        "\n",
        "##1.2 Python 2 vs Python 3\n",
        "Python 2 and Python 3 are two major versions of the language. Python 2 was first released in 2000, and Python 3 in 2008. The Python community officially stopped supporting Python 2 on January 1, 2020, and it is recommended that you use Python 3 for your projects.\n",
        "\n",
        "Some key differences between Python 2 and Python 3 are:\n",
        "\n",
        "print is a statement in Python 2, while it is a function in Python 3.\n",
        "Division in Python 2 returns an integer by default, while in Python 3, it returns a float.\n",
        "Unicode support is built into Python 3 by default, while it is not the case for Python 2.\n",
        "\n",
        "## 1.3 Python's Strengths and Weaknesses\n",
        "### Strengths \n",
        "Readable and maintainable code,\n",
        "\n",
        "Extensive standard library,\n",
        "\n",
        "Cross-platform compatibility,\n",
        "\n",
        "Strong community and ecosystem,\n",
        "\n",
        "Supports multiple programming paradigms,\n",
        "\n",
        "Great for rapid prototyping.\n",
        "\n",
        "### Weaknesses\n",
        "Slower execution compared to languages like C++ and Java,\n",
        "\n",
        "Global interpreter lock (GIL) limits multi-threaded performance.\n",
        "## 1.4 Installing Python and Setting Up the Environment\n",
        "\n",
        "To install Python, download the appropriate installer for your operating system from the official Python website: https://www.python.org/downloads/\n",
        "\n",
        "Once installed, you can verify the installation by opening a terminal or command prompt and typing:\n",
        "\n",
        "python --version\n",
        "\n",
        "This command should display the installed Python version.\n",
        "\n",
        "##1.5 Python IDEs and Text Editors\n",
        "There are many Integrated Development Environments (IDEs) and text editors available for Python development. Some popular options include:\n",
        "\n",
        "\n",
        "PyCharm (IDE): https://www.jetbrains.com/pycharm/\n",
        "Visual Studio Code (Text Editor): https://code.visualstudio.com/\n",
        "Jupyter Notebook (Interactive Environment): https://jupyter.org/\n",
        "Sublime Text (Text Editor): https://www.sublimetext.com/\n",
        "Choose the one that best suits your preferences and workflow.\n",
        "\n",
        "#Exercises\n",
        "Install Python 3 on your computer and verify the installation using the python --version command.\n",
        "\n",
        "Choose a Python IDE or text editor and install it on your computer.\n",
        "\n",
        "Write a simple \"Hello, World!\" program in Python:\n"
      ],
      "metadata": {
        "id": "vUfNRh1R5hrg"
      }
    },
    {
      "cell_type": "code",
      "execution_count": 1,
      "metadata": {
        "colab": {
          "base_uri": "https://localhost:8080/",
          "height": 0
        },
        "id": "8k1T3k1j5f6B",
        "outputId": "eec6b2f7-e5fd-46c6-eb2e-c84b3c121f83"
      },
      "outputs": [
        {
          "output_type": "stream",
          "name": "stdout",
          "text": [
            "Hello, World!\n"
          ]
        }
      ],
      "source": [
        "# Save this code in a file named hello_world.py\n",
        "\n",
        "# This is a single-line comment\n",
        "\n",
        "\"\"\"\n",
        "This is a\n",
        "multi-line comment\n",
        "\"\"\"\n",
        "\n",
        "# The print function is used to display text on the screen\n",
        "print(\"Hello, World!\")\n",
        "\n",
        "'''Explore the official Python documentation to learn more about the language's \n",
        "syntax and standard library: https://docs.python.org/3/'''\n"
      ]
    },
    {
      "cell_type": "markdown",
      "source": [
        "#Chapter 2: Getting Started with Python\n",
        "##2.1 Running Python Code: Interactive Mode, Scripts, and IDEs\n",
        "\n",
        "There are several ways to run Python code:\n",
        "\n",
        "Interactive mode: Start an interactive Python session by typing `python' in your terminal or command prompt. You can enter Python code directly, and it will be executed immediately.\n",
        "\n",
        "\n",
        "Scripts: Save your Python code in a file with the .py extension, such as example.py. Run the script by typing python example.py in your terminal or command prompt.\n",
        "\n",
        "IDEs: Integrated Development Environments (IDEs) and text editors often provide features to run Python code directly within the application. Consult the documentation of your chosen IDE or text editor for instructions on how to execute Python code.\n",
        "\n",
        "##2.2 Python Syntax Basics\n",
        "Python uses indentation to define blocks of code. Indentation should be consistent throughout your code, typically using 4 spaces."
      ],
      "metadata": {
        "id": "Rx9Z7FdH7n8z"
      }
    },
    {
      "cell_type": "code",
      "source": [
        "if 5 > 3:\n",
        "    print(\"5 is greater than 3\")\n",
        "else:\n",
        "    print(\"5 is not greater than 3\")\n"
      ],
      "metadata": {
        "colab": {
          "base_uri": "https://localhost:8080/",
          "height": 0
        },
        "id": "9tPpDM_P6pIg",
        "outputId": "4bd72e5a-0523-4d38-d7e2-f05729c660cb"
      },
      "execution_count": 2,
      "outputs": [
        {
          "output_type": "stream",
          "name": "stdout",
          "text": [
            "5 is greater than 3\n"
          ]
        }
      ]
    },
    {
      "cell_type": "code",
      "source": [
        "'''In Python, you don't need to use semicolons (;) \n",
        "to separate statements, but you can use them to write multiple statements\n",
        "on a single line.'''\n",
        "\n",
        "x = 5; y = 7\n"
      ],
      "metadata": {
        "id": "90gOoJFw8HHN"
      },
      "execution_count": 3,
      "outputs": []
    },
    {
      "cell_type": "markdown",
      "source": [
        "## 2.3 Comments in Python\n",
        "Comments are used to make your code more readable and to provide explanations for the functionality of the code. In Python, there are two types of comments:\n",
        "\n",
        "Single-line comments: Start a single-line comment with the # symbol. Everything after the # on that line is considered a comment and is ignored by the interpreter.\n",
        "\n"
      ],
      "metadata": {
        "id": "asZtmmO68Ugs"
      }
    },
    {
      "cell_type": "code",
      "source": [
        "# This is a single-line comment\n"
      ],
      "metadata": {
        "id": "cHH1v2_h8TUl"
      },
      "execution_count": 4,
      "outputs": []
    },
    {
      "cell_type": "markdown",
      "source": [
        "Multi-line comments: For multi-line comments, you can use triple quotes (\"\"\" or '''). Everything between the triple quotes is considered a comment and is ignored by the interpreter."
      ],
      "metadata": {
        "id": "nXEOEG2S8gss"
      }
    },
    {
      "cell_type": "code",
      "source": [
        "\"\"\"\n",
        "This is a\n",
        "multi-line comment\n",
        "\"\"\"\n"
      ],
      "metadata": {
        "colab": {
          "base_uri": "https://localhost:8080/",
          "height": 36
        },
        "id": "S98wYwtb8gFL",
        "outputId": "2fa7021b-2e65-45f1-e812-507ac8404c91"
      },
      "execution_count": 5,
      "outputs": [
        {
          "output_type": "execute_result",
          "data": {
            "text/plain": [
              "'\\nThis is a\\nmulti-line comment\\n'"
            ],
            "application/vnd.google.colaboratory.intrinsic+json": {
              "type": "string"
            }
          },
          "metadata": {},
          "execution_count": 5
        }
      ]
    },
    {
      "cell_type": "markdown",
      "source": [
        "# 2.4 Variables and Data Types\n",
        "\n",
        "Variables are used to store values in Python. You can assign a value to a variable using the = symbol."
      ],
      "metadata": {
        "id": "sC-4eT2M8oNb"
      }
    },
    {
      "cell_type": "code",
      "source": [
        "x = 5\n"
      ],
      "metadata": {
        "id": "nplIzHzu8nX_"
      },
      "execution_count": null,
      "outputs": []
    },
    {
      "cell_type": "markdown",
      "source": [
        "Python has several built-in data types. Some common data types are:\n",
        "\n",
        "##2.4.1 Numeric: Integers and Floats\n",
        "\n",
        "Integers are whole numbers, and floats are numbers with decimal points. Basic arithmetic operations can be performed using the standard mathematical symbols."
      ],
      "metadata": {
        "id": "2tmwpTZx8wgs"
      }
    },
    {
      "cell_type": "code",
      "source": [
        "# Integer\n",
        "x = 5\n",
        "y = 3\n",
        "\n",
        "# Addition\n",
        "result = x + y  # 8\n",
        "\n",
        "# Float\n",
        "a = 5.5\n",
        "b = 2.2\n",
        "\n",
        "# Division\n",
        "result = a / b  # 2.5\n"
      ],
      "metadata": {
        "id": "NKPYu2ob85xC"
      },
      "execution_count": null,
      "outputs": []
    },
    {
      "cell_type": "markdown",
      "source": [
        "##2.4.2 Strings\n",
        "Strings are sequences of characters. They can be defined using single quotes (') or double quotes (\")."
      ],
      "metadata": {
        "id": "SL8pvqgY89GP"
      }
    },
    {
      "cell_type": "code",
      "source": [
        "# String\n",
        "name = \"John Doe\"\n",
        "\n",
        "# Concatenation\n",
        "greeting = \"Hello, \" + name  # \"Hello, John Doe\"\n",
        "\n",
        "# String formatting\n",
        "age = 30\n",
        "message = f\"{name} is {age} years old.\"  # \"John Doe is 30 years old.\"\n"
      ],
      "metadata": {
        "id": "XpXVW3FG9BTS"
      },
      "execution_count": null,
      "outputs": []
    },
    {
      "cell_type": "markdown",
      "source": [
        "##2.4.3 Booleans\n",
        "Booleans represent True or False values and are often used in conditional statements.\n"
      ],
      "metadata": {
        "id": "YCu0iWmG9CIn"
      }
    },
    {
      "cell_type": "code",
      "source": [
        "# Boolean\n",
        "is_active = True\n",
        "\n",
        "if is_active:\n",
        "    print(\"User is active.\")\n",
        "else:\n",
        "    print(\"User is not active.\")\n"
      ],
      "metadata": {
        "id": "a8qAqe1l9K3q"
      },
      "execution_count": null,
      "outputs": []
    },
    {
      "cell_type": "markdown",
      "source": [
        "##2.4.4 None\n",
        "None is a special data type in Python that represents the absence of a value or a null value. It can be used as a placeholder for a variable that doesn't have a value assigned yet or to indicate that a variable should be empty."
      ],
      "metadata": {
        "id": "xBWYdaBM9RMq"
      }
    },
    {
      "cell_type": "code",
      "source": [
        "# None\n",
        "no_value = None\n",
        "\n",
        "if no_value is None:\n",
        "    print(\"This variable has no value.\")\n",
        "else:\n",
        "    print(\"This variable has a value.\")\n"
      ],
      "metadata": {
        "id": "Bor9fBvm9XAr"
      },
      "execution_count": null,
      "outputs": []
    },
    {
      "cell_type": "markdown",
      "source": [
        "#Exercises\n",
        "Start an interactive Python session in your terminal or command prompt and perform the following tasks:\n",
        "\n",
        "A) \n",
        "\n",
        "Assign an integer value to a variable,\n",
        "\n",
        "Assign a float value to another variable,\n",
        "\n",
        "Perform addition, subtraction, multiplication, and division operations using these variables.\n",
        "\n",
        "B) \n",
        "\n",
        "Create a Python script that contains:\n",
        "\n",
        "A single-line comment,\n",
        "\n",
        "A multi-line comment,\n",
        "\n",
        "A variable assigned with a string value,\n",
        "\n",
        "A print statement that displays the string value of the variable,\n",
        "C) \n",
        "\n",
        "Write a Python script that defines the following variables:\n",
        "\n",
        "An integer variable,\n",
        "\n",
        "A float variable,\n",
        "\n",
        "A string variable,\n",
        "\n",
        "A boolean variable,\n",
        "\n",
        "A variable with the value None,\n",
        "\n",
        "D) \n",
        "\n",
        "Print the values of these variables and their data types using the type() function:"
      ],
      "metadata": {
        "id": "pVUU833o9Zhk"
      }
    },
    {
      "cell_type": "code",
      "source": [
        "x = 5\n",
        "print(x, type(x))  # 5 <class 'int'>\n"
      ],
      "metadata": {
        "colab": {
          "base_uri": "https://localhost:8080/",
          "height": 0
        },
        "id": "oWqJUVET9053",
        "outputId": "c206ebc0-9268-4a5a-d8e9-57f0dc5ca064"
      },
      "execution_count": 6,
      "outputs": [
        {
          "output_type": "stream",
          "name": "stdout",
          "text": [
            "5 <class 'int'>\n"
          ]
        }
      ]
    },
    {
      "cell_type": "markdown",
      "source": [
        "#Chapter 3: Python Basic Operations\n",
        "##3.1 Arithmetic Operations\n",
        "\n",
        "Python provides the following arithmetic operations:\n",
        "\n",
        "#####Addition (+)\n",
        "#####Subtraction (-)\n",
        "#####Multiplication (*)\n",
        "#####Division (/)\n",
        "#####Integer division (//)\n",
        "#####Modulus (%)\n",
        "#####Exponentiation (**)"
      ],
      "metadata": {
        "id": "qQ9TC4_z-KA0"
      }
    },
    {
      "cell_type": "code",
      "source": [
        "a = 10\n",
        "b = 3\n",
        "\n",
        "# Addition\n",
        "result = a + b  # 13\n",
        "\n",
        "# Subtraction\n",
        "result = a - b  # 7\n",
        "\n",
        "# Multiplication\n",
        "result = a * b  # 30\n",
        "\n",
        "# Division\n",
        "result = a / b  # 3.3333333333333335\n",
        "\n",
        "# Integer Division\n",
        "result = a // b  # 3\n",
        "\n",
        "# Modulus\n",
        "result = a % b  # 1\n",
        "\n",
        "# Exponentiation\n",
        "result = a ** b  # 1000\n"
      ],
      "metadata": {
        "id": "f003k8EU-JTY"
      },
      "execution_count": 7,
      "outputs": []
    },
    {
      "cell_type": "markdown",
      "source": [
        "##3.2 Comparison Operators\n",
        "Comparison operators are used to compare two values:\n",
        "\n",
        "#####Equal to (==)\n",
        "#####Not equal to (!=)\n",
        "#####Greater than (>)\n",
        "#####Less than (<)\n",
        "#####Greater than or equal to (>=)\n",
        "#####Less than or equal to (<=)"
      ],
      "metadata": {
        "id": "0HzsaeHGAd9J"
      }
    },
    {
      "cell_type": "code",
      "source": [
        "a = 10\n",
        "b = 3\n",
        "\n",
        "# Equal to\n",
        "result = a == b  # False\n",
        "\n",
        "# Not equal to\n",
        "result = a != b  # True\n",
        "\n",
        "# Greater than\n",
        "result = a > b  # True\n",
        "\n",
        "# Less than\n",
        "result = a < b  # False\n",
        "\n",
        "# Greater than or equal to\n",
        "result = a >= b  # True\n",
        "\n",
        "# Less than or equal to\n",
        "result = a <= b  # False\n"
      ],
      "metadata": {
        "id": "iWa3JSthAa_u"
      },
      "execution_count": null,
      "outputs": []
    },
    {
      "cell_type": "markdown",
      "source": [
        "##3.3 Logical Operators\n",
        "Logical operators are used to combine conditional statements:\n",
        "\n",
        "#####and: Returns True if both conditions are true\n",
        "#####or: Returns True if at least one condition is true\n",
        "#####not: Reverses the result, returns False if the result is true, and vice versa\n"
      ],
      "metadata": {
        "id": "VKjWZUn_BIDn"
      }
    },
    {
      "cell_type": "code",
      "source": [
        "a = True\n",
        "b = False\n",
        "\n",
        "# and\n",
        "result = a and b  # False\n",
        "\n",
        "# or\n",
        "result = a or b  # True\n",
        "\n",
        "# not\n",
        "result = not a  # False\n"
      ],
      "metadata": {
        "id": "7r5xxJPzBSlv"
      },
      "execution_count": null,
      "outputs": []
    },
    {
      "cell_type": "markdown",
      "source": [
        "##3.4 Assignment Operators\n",
        "Assignment operators are used to assign values to variables:\n",
        "\n",
        "#####Assign (=)\n",
        "#####Add and assign (+=)\n",
        "#####Subtract and assign (-=)\n",
        "#####Multiply and assign (*=)\n",
        "#####Divide and assign (/=)\n",
        "#####Integer divide and assign (//=)\n",
        "#####Modulus and assign (%=)\n",
        "#####Exponentiate and assign (**=)\n",
        "\n"
      ],
      "metadata": {
        "id": "mfR0Ps7BBTYV"
      }
    },
    {
      "cell_type": "code",
      "source": [
        "a = 10\n",
        "\n",
        "# Add and assign\n",
        "a += 5  # a = a + 5 => a = 15\n",
        "\n",
        "# Subtract and assign\n",
        "a -= 3  # a = a - 3 => a = 12\n",
        "\n",
        "# Multiply and assign\n",
        "a *= 2  # a = a * 2 => a = 24\n",
        "\n",
        "# Divide and assign\n",
        "a /= 4  # a = a / 4 => a = 6.0\n",
        "\n",
        "# Integer divide and assign\n",
        "a //= 2  # a = a // 2 => a = 3.0\n",
        "\n",
        "# Modulus and assign\n",
        "a %= 2  # a = a % 2 => a = 1.0\n",
        "\n",
        "# Exponentiate and assign\n",
        "a **= 3  # a = a ** 3 => a = 1.0\n"
      ],
      "metadata": {
        "id": "FkRIXYFfBgFV"
      },
      "execution_count": null,
      "outputs": []
    },
    {
      "cell_type": "markdown",
      "source": [
        "##3.5 Bitwise Operators\n",
        "Bitwise operators are used to perform operations on binary numbers:\n",
        "\n",
        "#####Bitwise AND (&)\n",
        "#####Bitwise OR (|)\n",
        "#####Bitwise XOR (^)\n",
        "#####Bitwise NOT (~)\n",
        "#####Left shift (<<)\n",
        "#####Right shift (>>)"
      ],
      "metadata": {
        "id": "heyrVhD7Bg1g"
      }
    },
    {
      "cell_type": "code",
      "source": [
        "a = 10  # Binary: 1010\n",
        "b = 4   # Binary: 0100\n",
        "\n",
        "# Bitwise AND\n",
        "result = a & b  # 0 (Binary: 0000)\n",
        "\n",
        "# Bitwise OR\n",
        "result = a | b  # 14 (Binary: 1110)\n",
        "\n",
        "# Bitwise XOR\n",
        "result = a ^ b  # 14 (Binary: 1110)\n",
        "\n",
        "# Bitwise NOT\n",
        "result = ~a  # -11 (Binary: -(1011))\n",
        "\n",
        "# Left shift\n",
        "result = a << 1  # 20 (Binary: 10100)\n",
        "\n",
        "# Right shift\n",
        "result = a >> 1  # 5 (Binary: 0101)\n"
      ],
      "metadata": {
        "id": "gaq4eCydBuSF"
      },
      "execution_count": null,
      "outputs": []
    },
    {
      "cell_type": "markdown",
      "source": [
        "##3.6 Membership Operators\n",
        "Membership operators are used to test whether a value is a member of a sequence (e.g., string, list, tuple, set, or dictionary).\n",
        "\n",
        "#####in: Returns True if the specified value is found in the sequence\n",
        "#####not in: Returns True if the specified value is not found in the sequence"
      ],
      "metadata": {
        "id": "cs9Q3FTYBu7I"
      }
    },
    {
      "cell_type": "code",
      "source": [
        "my_list = [1, 2, 3, 4, 5]\n",
        "\n",
        "# in\n",
        "result = 3 in my_list  # True\n",
        "\n",
        "# not in\n",
        "result = 6 not in my_list  # True\n"
      ],
      "metadata": {
        "id": "xgGnAlh8CAjz"
      },
      "execution_count": null,
      "outputs": []
    },
    {
      "cell_type": "markdown",
      "source": [
        "##3.7 Identity Operators\n",
        "Identity operators are used to compare the memory addresses of two objects:\n",
        "\n",
        "#####is: Returns True if both variables are the same object\n",
        "#####is not: Returns True if both variables are not the same object\n"
      ],
      "metadata": {
        "id": "-i0Mf2kBCCD1"
      }
    },
    {
      "cell_type": "code",
      "source": [
        "a = [1, 2, 3]\n",
        "b = a\n",
        "c = [1, 2, 3]\n",
        "\n",
        "# is\n",
        "result = a is b  # True\n",
        "result = a is c  # False\n",
        "\n",
        "# is not\n",
        "result = a is not c  # True\n"
      ],
      "metadata": {
        "id": "ObhCWprrCLpL"
      },
      "execution_count": null,
      "outputs": []
    },
    {
      "cell_type": "markdown",
      "source": [
        "#Exercises\n",
        "1) Create a Python script that performs the following arithmetic operations using integer and float variables:\n",
        "\n",
        "#####Addition\n",
        "#####Subtraction\n",
        "#####Multiplication\n",
        "#####Division\n",
        "#####Integer division\n",
        "#####Modulus\n",
        "#####Exponentiation\n",
        "2) Write a Python script that demonstrates the use of the following comparison operators:\n",
        "\n",
        "#####Equal to\n",
        "#####Not equal to\n",
        "#####Greater than\n",
        "#####Less than\n",
        "#####Greater than or equal to\n",
        "#####Less than or equal to\n",
        "3) Create a Python script that demonstrates the use of the following logical operators:\n",
        "\n",
        "#####and\n",
        "#####or\n",
        "#####not\n",
        "4) Write a Python script that demonstrates the use of the following assignment operators:\n",
        "\n",
        "#####Assign\n",
        "#####Add and assign\n",
        "#####Subtract and assign\n",
        "#####Multiply and assign\n",
        "#####Divide and assign\n",
        "#####Integer divide and assign\n",
        "#####Modulus and assign\n",
        "#####Exponentiate and assign\n",
        "\n",
        "5) Create a Python script that demonstrates the use of the following bitwise operators:\n",
        "\n",
        "#####Bitwise AND\n",
        "#####Bitwise OR\n",
        "#####Bitwise XOR\n",
        "#####Bitwise NOT\n",
        "#####Left shift\n",
        "#####Right shift\n",
        "\n",
        "6) Write a Python script that demonstrates the use of the following membership operators:\n",
        "\n",
        "#####in\n",
        "#####not in\n",
        "\n",
        "7) Create a Python script that demonstrates the use of the following identity operators:\n",
        "#####is\n",
        "#####is not\n"
      ],
      "metadata": {
        "id": "JobjSZsWCQEO"
      }
    },
    {
      "cell_type": "markdown",
      "source": [
        "#Chapter 4: Control Flow\n",
        "##4.1 If Statements\n",
        "if statements are used to execute a block of code when a specific condition is true."
      ],
      "metadata": {
        "id": "mJfaumTlI8gZ"
      }
    },
    {
      "cell_type": "code",
      "source": [
        "x = 10\n",
        "\n",
        "if x > 5:\n",
        "    print(\"x is greater than 5\")\n"
      ],
      "metadata": {
        "id": "o5qPYaC0Cuf-"
      },
      "execution_count": null,
      "outputs": []
    },
    {
      "cell_type": "markdown",
      "source": [
        "##4.2 Elif and Else Clauses\n",
        "You can use elif (short for \"else if\") and else clauses to test multiple conditions and execute different blocks of code depending on which condition is true."
      ],
      "metadata": {
        "id": "BoeBPLe_JBaS"
      }
    },
    {
      "cell_type": "code",
      "source": [
        "x = 10\n",
        "\n",
        "if x > 20:\n",
        "    print(\"x is greater than 20\")\n",
        "elif x > 10:\n",
        "    print(\"x is greater than 10 but not greater than 20\")\n",
        "else:\n",
        "    print(\"x is less than or equal to 10\")\n"
      ],
      "metadata": {
        "id": "IpxzKFCiJFFc"
      },
      "execution_count": null,
      "outputs": []
    },
    {
      "cell_type": "markdown",
      "source": [
        "##4.3 Nested If Statements\n",
        "You can use nested if statements inside other if or elif blocks to test additional conditions."
      ],
      "metadata": {
        "id": "MgbxHvZlJG5w"
      }
    },
    {
      "cell_type": "code",
      "source": [
        "x = 10\n",
        "y = 5\n",
        "\n",
        "if x > 5:\n",
        "    if y > 3:\n",
        "        print(\"x is greater than 5 and y is greater than 3\")\n",
        "    else:\n",
        "        print(\"x is greater than 5 and y is less than or equal to 3\")\n"
      ],
      "metadata": {
        "id": "KwNqlIhSJKQ2"
      },
      "execution_count": null,
      "outputs": []
    },
    {
      "cell_type": "markdown",
      "source": [
        "##4.4 For Loops\n",
        "for loops are used to iterate over a sequence (e.g., string, list, tuple, set, or dictionary) and execute a block of code for each element in the sequence."
      ],
      "metadata": {
        "id": "o24u4icPJNb1"
      }
    },
    {
      "cell_type": "code",
      "source": [
        "my_list = [1, 2, 3, 4, 5]\n",
        "\n",
        "for item in my_list:\n",
        "    print(item)\n"
      ],
      "metadata": {
        "id": "8YrXn8cqJSA2"
      },
      "execution_count": null,
      "outputs": []
    },
    {
      "cell_type": "markdown",
      "source": [
        "##4.5 While Loops\n",
        "while loops are used to repeatedly execute a block of code as long as a specific condition is true."
      ],
      "metadata": {
        "id": "hXq3PPoAJUvA"
      }
    },
    {
      "cell_type": "code",
      "source": [
        "x = 0\n",
        "\n",
        "while x < 5:\n",
        "    print(x)\n",
        "    x += 1\n"
      ],
      "metadata": {
        "id": "gmebiW6mJX0K"
      },
      "execution_count": null,
      "outputs": []
    },
    {
      "cell_type": "markdown",
      "source": [
        "##4.6 Loop Control: Break, Continue, and Else\n",
        "You can use the break, continue, and else keywords to control the flow of loops:\n",
        "\n",
        "#####break: Terminates the current loop and resumes execution at the next statement after the loop\n",
        "#####continue: Skips the rest of the current iteration and proceeds to the next iteration of the loop\n",
        "#####else: An optional clause that can be added after a loop, which is executed when the loop has finished iterating"
      ],
      "metadata": {
        "id": "AazQWyZNJZor"
      }
    },
    {
      "cell_type": "code",
      "source": [
        "# break\n",
        "for item in my_list:\n",
        "    if item == 3:\n",
        "        break\n",
        "    print(item)\n",
        "# Output: 1, 2\n",
        "\n",
        "# continue\n",
        "for item in my_list:\n",
        "    if item == 3:\n",
        "        continue\n",
        "    print(item)\n",
        "# Output: 1, 2, 4, 5\n",
        "\n",
        "# else\n",
        "for item in my_list:\n",
        "    print(item)\n",
        "else:\n",
        "    print(\"Loop has finished.\")\n"
      ],
      "metadata": {
        "id": "zx6jZr4CJhEy"
      },
      "execution_count": null,
      "outputs": []
    },
    {
      "cell_type": "markdown",
      "source": [
        "#Exercises\n",
        "1) Create a Python script that uses an if statement to check if a number is positive, negative, or zero.\n",
        "\n",
        "2) Write a Python script that tests multiple conditions using if, elif, and else clauses.\n",
        "\n",
        "3) Create a Python script that uses nested if statements to check if two numbers are both greater than a specific value.\n",
        "\n",
        "4) Write a Python script that uses a for loop to iterate over a list and print each element in the list.\n",
        "\n",
        "5) Create a Python script that uses a while loop to print the numbers from 1 to 10.\n",
        "\n",
        "6) Write a Python script that demonstrates the use of break, continue, and else keywords in for and `while loops.\n",
        "\n",
        "For each exercise, print the results to the console so you can verify the correctness of your code."
      ],
      "metadata": {
        "id": "_qHS6H9HJuAL"
      }
    },
    {
      "cell_type": "markdown",
      "source": [
        "##Exercise Solutions\n",
        "1) Create a Python script that uses an if statement to check if a number is positive, negative, or zero."
      ],
      "metadata": {
        "id": "Piqo1lW_KP_Y"
      }
    },
    {
      "cell_type": "code",
      "source": [
        "number = 5\n",
        "\n",
        "if number > 0:\n",
        "    print(\"The number is positive.\")\n",
        "elif number < 0:\n",
        "    print(\"The number is negative.\")\n",
        "else:\n",
        "    print(\"The number is zero.\")\n"
      ],
      "metadata": {
        "id": "bS5NGTHWKW5e"
      },
      "execution_count": null,
      "outputs": []
    },
    {
      "cell_type": "markdown",
      "source": [
        "2) Write a Python script that tests multiple conditions using if, elif, and else clauses."
      ],
      "metadata": {
        "id": "9X__yHntKYzC"
      }
    },
    {
      "cell_type": "code",
      "source": [
        "age = 18\n",
        "\n",
        "if age < 13:\n",
        "    print(\"You are a child.\")\n",
        "elif age < 18:\n",
        "    print(\"You are a teenager.\")\n",
        "else:\n",
        "    print(\"You are an adult.\")\n"
      ],
      "metadata": {
        "id": "_eGNPJtYKcKc"
      },
      "execution_count": null,
      "outputs": []
    },
    {
      "cell_type": "markdown",
      "source": [
        "3) Create a Python script that uses nested if statements to check if two numbers are both greater than a specific value."
      ],
      "metadata": {
        "id": "fjUUnpSfKiT2"
      }
    },
    {
      "cell_type": "code",
      "source": [
        "x = 7\n",
        "y = 10\n",
        "specific_value = 5\n",
        "\n",
        "if x > specific_value:\n",
        "    if y > specific_value:\n",
        "        print(\"Both x and y are greater than the specific value.\")\n"
      ],
      "metadata": {
        "id": "bgEp8j9HKneW"
      },
      "execution_count": null,
      "outputs": []
    },
    {
      "cell_type": "markdown",
      "source": [
        "4) Write a Python script that uses a for loop to iterate over a list and print each element in the list."
      ],
      "metadata": {
        "id": "Gc4PwY6ZKpYi"
      }
    },
    {
      "cell_type": "code",
      "source": [
        "my_list = [1, 2, 3, 4, 5]\n",
        "\n",
        "for item in my_list:\n",
        "    print(item)\n"
      ],
      "metadata": {
        "id": "hr0UxDi1KutV"
      },
      "execution_count": null,
      "outputs": []
    },
    {
      "cell_type": "markdown",
      "source": [
        "5) Create a Python script that uses a while loop to print the numbers from 1 to 10."
      ],
      "metadata": {
        "id": "4aKF1vcYKwLK"
      }
    },
    {
      "cell_type": "code",
      "source": [
        "x = 1\n",
        "\n",
        "while x <= 10:\n",
        "    print(x)\n",
        "    x += 1\n"
      ],
      "metadata": {
        "id": "NxnHSWBvK3Il"
      },
      "execution_count": null,
      "outputs": []
    },
    {
      "cell_type": "markdown",
      "source": [
        "6) Write a Python script that demonstrates the use of break, continue, and else keywords in for and while loops."
      ],
      "metadata": {
        "id": "EABdyZPAK36b"
      }
    },
    {
      "cell_type": "code",
      "source": [
        "# break\n",
        "my_list = [1, 2, 3, 4, 5]\n",
        "for item in my_list:\n",
        "    if item == 3:\n",
        "        break\n",
        "    print(item)\n",
        "\n",
        "# continue\n",
        "for item in my_list:\n",
        "    if item == 3:\n",
        "        continue\n",
        "    print(item)\n",
        "\n",
        "# else\n",
        "for item in my_list:\n",
        "    print(item)\n",
        "else:\n",
        "    print(\"Loop has finished.\")\n",
        "\n",
        "# while loop with break, continue, and else\n",
        "x = 0\n",
        "while x < 5:\n",
        "    x += 1\n",
        "    if x == 3:\n",
        "        break\n",
        "    print(x)\n",
        "\n",
        "x = 0\n",
        "while x < 5:\n",
        "    x += 1\n",
        "    if x == 3:\n",
        "        continue\n",
        "    print(x)\n",
        "\n",
        "x = 0\n",
        "while x < 5:\n",
        "    x += 1\n",
        "    print(x)\n",
        "else:\n",
        "    print(\"Loop has finished.\")\n"
      ],
      "metadata": {
        "id": "RbVbgGptLAVo"
      },
      "execution_count": null,
      "outputs": []
    },
    {
      "cell_type": "markdown",
      "source": [
        "#Chapter 5: Functions\n",
        "##5.1 Defining Functions\n",
        "Functions are blocks of reusable code that perform a specific task. You can define a function using the def keyword, followed by the function name and a pair of parentheses containing any input parameters."
      ],
      "metadata": {
        "id": "OzmLs-wFNzAc"
      }
    },
    {
      "cell_type": "code",
      "source": [
        "def greet():\n",
        "    print(\"Hello, World!\")\n",
        "\n",
        "greet()\n"
      ],
      "metadata": {
        "id": "M9H3BwyTN28x"
      },
      "execution_count": null,
      "outputs": []
    },
    {
      "cell_type": "markdown",
      "source": [
        "##5.2 Function Arguments: Positional, Keyword, and Default Values\n",
        "Functions can accept input parameters (also called arguments) to perform specific tasks. You can pass arguments in three ways:\n",
        "\n",
        "Positional arguments: Passed in the same order as the function parameters\n",
        "Keyword arguments: Passed using the parameter name and an equals sign\n",
        "Default values: Assigned a default value when defining the function, used if no value is passed"
      ],
      "metadata": {
        "id": "QZUqQv9hN59C"
      }
    },
    {
      "cell_type": "code",
      "source": [
        "def greet(name, greeting=\"Hello\"):\n",
        "    print(greeting, name)\n",
        "\n",
        "# Positional arguments\n",
        "greet(\"John\", \"Hi\")\n",
        "\n",
        "# Keyword arguments\n",
        "greet(name=\"John\", greeting=\"Hi\")\n",
        "\n",
        "# Default value\n",
        "greet(\"John\")\n"
      ],
      "metadata": {
        "id": "KxhBwooFOAUV"
      },
      "execution_count": null,
      "outputs": []
    },
    {
      "cell_type": "markdown",
      "source": [
        "##5.3 Variable-length Arguments: *args and **kwargs\n",
        "You can use *args and **kwargs to accept a variable number of arguments in a function:\n",
        "\n",
        "#####*args: Passes a variable number of non-keyword (positional) arguments, which are available as a tuple inside the function\n",
        "#####**kwargs: Passes a variable number of keyword arguments, which are available as a dictionary inside the function"
      ],
      "metadata": {
        "id": "k974CvPQOEnX"
      }
    },
    {
      "cell_type": "code",
      "source": [
        "def print_args(*args, **kwargs):\n",
        "    print(\"Positional arguments:\", args)\n",
        "    print(\"Keyword arguments:\", kwargs)\n",
        "\n",
        "print_args(1, 2, 3, a=4, b=5)\n"
      ],
      "metadata": {
        "id": "GhDeJ-CVOLi6"
      },
      "execution_count": null,
      "outputs": []
    },
    {
      "cell_type": "markdown",
      "source": [
        "##5.4 Returning Values from Functions\n",
        "Functions can return a value using the return keyword."
      ],
      "metadata": {
        "id": "whvZ93lzOMSS"
      }
    },
    {
      "cell_type": "code",
      "source": [
        "def add(a, b):\n",
        "    return a + b\n",
        "\n",
        "result = add(1, 2)\n",
        "print(result)  # Output: 3\n"
      ],
      "metadata": {
        "id": "Rwy8L4q6OQ27"
      },
      "execution_count": null,
      "outputs": []
    },
    {
      "cell_type": "markdown",
      "source": [
        "##5.5 Lambda Functions\n",
        "Lambda functions are small, anonymous functions that can be defined using the lambda keyword. They can have any number of arguments but only one expression."
      ],
      "metadata": {
        "id": "pqRbAvznOT04"
      }
    },
    {
      "cell_type": "code",
      "source": [
        "add = lambda a, b: a + b\n",
        "\n",
        "result = add(1, 2)\n",
        "print(result)  # Output: 3\n"
      ],
      "metadata": {
        "id": "_MHStoyyOV0r"
      },
      "execution_count": null,
      "outputs": []
    },
    {
      "cell_type": "markdown",
      "source": [
        "##5.6 Built-in Functions\n",
        "Python has several built-in functions that are always available. Some examples include:\n",
        "\n",
        "#####len(): Returns the number of items in a container\n",
        "#####max(): Returns the largest item in an iterable or the largest of two or more arguments\n",
        "#####min(): Returns the smallest item in an iterable or the smallest of two or more arguments\n",
        "#####sum(): Returns the sum of all items in an iterable"
      ],
      "metadata": {
        "id": "8wtFBU5zOXv3"
      }
    },
    {
      "cell_type": "code",
      "source": [
        "my_list = [1, 2, 3, 4, 5]\n",
        "\n",
        "length = len(my_list)  # Output: 5\n",
        "maximum = max(my_list)  # Output: 5\n",
        "minimum = min(my_list)  # Output: 1\n",
        "total = sum(my_list)  # Output: 15\n",
        "\n",
        "print(length, maximum, minimum, total)\n"
      ],
      "metadata": {
        "id": "I1EAkULZOgHt"
      },
      "execution_count": null,
      "outputs": []
    },
    {
      "cell_type": "markdown",
      "source": [
        "1) Define a function that prints \"Hello, World!\" and call it.\n",
        "\n",
        "2) Create a function that accepts two numbers as arguments and returns their sum.\n",
        "\n",
        "3) Write a function that accepts a list of numbers and returns their average.\n",
        "\n",
        "4) Create a function that accepts any number of arguments and prints them.\n",
        "\n",
        "5) Write a lambda function that multiplies two numbers and use it to find the product of two integers.\n",
        "\n",
        "6) Use built-in functions to find the length, maximum, minimum, and sum of a list of numbers.\n",
        "\n",
        "For each exercise, print the results to the console so you can verify the correctness of your code."
      ],
      "metadata": {
        "id": "vIruAiISOgxU"
      }
    },
    {
      "cell_type": "markdown",
      "source": [
        "##Exercise Solutions\n",
        "1) Define a function that prints \"Hello, World!\" and call it."
      ],
      "metadata": {
        "id": "kQtKvh3WPGSt"
      }
    },
    {
      "cell_type": "code",
      "source": [
        "def greet():\n",
        "    print(\"Hello, World!\")\n",
        "\n",
        "greet()\n"
      ],
      "metadata": {
        "id": "r0Z55bm4PKVo"
      },
      "execution_count": null,
      "outputs": []
    },
    {
      "cell_type": "markdown",
      "source": [
        "2) Create a function that accepts two numbers as arguments and returns their sum."
      ],
      "metadata": {
        "id": "iiCsxBZBPMiE"
      }
    },
    {
      "cell_type": "code",
      "source": [
        "def add(a, b):\n",
        "    return a + b\n",
        "\n",
        "result = add(1, 2)\n",
        "print(result)  # Output: 3\n"
      ],
      "metadata": {
        "id": "SJTHQXf_PQvC"
      },
      "execution_count": null,
      "outputs": []
    },
    {
      "cell_type": "markdown",
      "source": [
        "3) Write a function that accepts a list of numbers and returns their average."
      ],
      "metadata": {
        "id": "sGShqZDJPRkK"
      }
    },
    {
      "cell_type": "code",
      "source": [
        "def average(numbers):\n",
        "    return sum(numbers) / len(numbers)\n",
        "\n",
        "my_list = [1, 2, 3, 4, 5]\n",
        "result = average(my_list)\n",
        "print(result)  # Output: 3.0\n"
      ],
      "metadata": {
        "id": "KU554DnqPUp3"
      },
      "execution_count": null,
      "outputs": []
    },
    {
      "cell_type": "markdown",
      "source": [
        "4) Create a function that accepts any number of arguments and prints them."
      ],
      "metadata": {
        "id": "_EcI1NBlPWcR"
      }
    },
    {
      "cell_type": "code",
      "source": [
        "def print_args(*args):\n",
        "    for arg in args:\n",
        "        print(arg)\n",
        "\n",
        "print_args(1, 2, 3, 4, 5)\n"
      ],
      "metadata": {
        "id": "LW4AdPynPZpx"
      },
      "execution_count": null,
      "outputs": []
    },
    {
      "cell_type": "markdown",
      "source": [
        "5) Write a lambda function that multiplies two numbers and use it to find the product of two integers."
      ],
      "metadata": {
        "id": "qWeKRUX4PbPh"
      }
    },
    {
      "cell_type": "code",
      "source": [
        "multiply = lambda a, b: a * b\n",
        "\n",
        "result = multiply(2, 3)\n",
        "print(result)  # Output: 6\n"
      ],
      "metadata": {
        "id": "GQz1weR0Pf7s"
      },
      "execution_count": null,
      "outputs": []
    },
    {
      "cell_type": "markdown",
      "source": [
        "6) Use built-in functions to find the length, maximum, minimum, and sum of a list of numbers."
      ],
      "metadata": {
        "id": "K2hgbpckPiFG"
      }
    },
    {
      "cell_type": "code",
      "source": [
        "my_list = [1, 2, 3, 4, 5]\n",
        "\n",
        "length = len(my_list)  # Output: 5\n",
        "maximum = max(my_list)  # Output: 5\n",
        "minimum = min(my_list)  # Output: 1\n",
        "total = sum(my_list)  # Output: 15\n",
        "\n",
        "print(length, maximum, minimum, total)\n"
      ],
      "metadata": {
        "id": "7PCU3a1PPhiu"
      },
      "execution_count": null,
      "outputs": []
    },
    {
      "cell_type": "markdown",
      "source": [
        "#Chapter 6: Data Structures\n",
        "##6.1 Lists\n",
        "Lists are ordered, mutable collections of items. Items can be of different types.\n",
        "\n",
        "##Definition"
      ],
      "metadata": {
        "id": "DOehK_2rP5kp"
      }
    },
    {
      "cell_type": "code",
      "source": [
        "my_list = [1, 2, 3, 4, 5]\n"
      ],
      "metadata": {
        "id": "NiNx3EhKBCeC"
      },
      "execution_count": null,
      "outputs": []
    },
    {
      "cell_type": "markdown",
      "source": [
        "##Indexing"
      ],
      "metadata": {
        "id": "7LZ9iEtNBEII"
      }
    },
    {
      "cell_type": "code",
      "source": [
        "first_item = my_list[0]  # Output: 1\n",
        "last_item = my_list[-1]  # Output: 5\n"
      ],
      "metadata": {
        "id": "wQRC2Q6wBGGQ"
      },
      "execution_count": null,
      "outputs": []
    },
    {
      "cell_type": "markdown",
      "source": [
        "##Slicing"
      ],
      "metadata": {
        "id": "eTHOQbh_BKZx"
      }
    },
    {
      "cell_type": "code",
      "source": [
        "first_three = my_list[:3]  # Output: [1, 2, 3]\n",
        "last_two = my_list[-2:]  # Output: [4, 5]\n"
      ],
      "metadata": {
        "id": "KK-hxVMUBMxl"
      },
      "execution_count": null,
      "outputs": []
    },
    {
      "cell_type": "markdown",
      "source": [
        "##Built-in Methods"
      ],
      "metadata": {
        "id": "Xp_111oNBOYN"
      }
    },
    {
      "cell_type": "code",
      "source": [
        "my_list.append(6)  # Adds 6 to the end of the list\n",
        "my_list.extend([7, 8, 9])  # Adds multiple items to the end of the list\n",
        "my_list.insert(0, 0)  # Inserts 0 at index 0\n",
        "my_list.remove(1)  # Removes the first occurrence of 1\n",
        "my_list.pop()  # Removes and returns the last item in the list\n",
        "my_list.sort()  # Sorts the list in ascending order\n",
        "my_list.reverse()  # Reverses the order of the list\n"
      ],
      "metadata": {
        "id": "u3tk9m6-BQh-"
      },
      "execution_count": null,
      "outputs": []
    },
    {
      "cell_type": "markdown",
      "source": [
        "##6.2 Tuples\n",
        "Tuples are ordered, immutable collections of items. Items can be of different types.\n",
        "\n",
        "##Definition"
      ],
      "metadata": {
        "id": "cIEBTcUrBSB3"
      }
    },
    {
      "cell_type": "code",
      "source": [
        "my_tuple = (1, 2, 3, 4, 5)\n"
      ],
      "metadata": {
        "id": "Q6-i0YyWBWB6"
      },
      "execution_count": null,
      "outputs": []
    },
    {
      "cell_type": "markdown",
      "source": [
        "##Indexing"
      ],
      "metadata": {
        "id": "bxDi37IlBXok"
      }
    },
    {
      "cell_type": "code",
      "source": [
        "first_item = my_tuple[0]  # Output: 1\n",
        "last_item = my_tuple[-1]  # Output: 5\n"
      ],
      "metadata": {
        "id": "GtYY0A7oBZ3y"
      },
      "execution_count": null,
      "outputs": []
    },
    {
      "cell_type": "markdown",
      "source": [
        "##Slicing"
      ],
      "metadata": {
        "id": "gJlP0wyvBbYn"
      }
    },
    {
      "cell_type": "code",
      "source": [
        "first_three = my_tuple[:3]  # Output: (1, 2, 3)\n",
        "last_two = my_tuple[-2:]  # Output: (4, 5)\n"
      ],
      "metadata": {
        "id": "7PLZuPz0BdVt"
      },
      "execution_count": null,
      "outputs": []
    },
    {
      "cell_type": "markdown",
      "source": [
        "##Immutability\n",
        "Tuples are immutable, which means you cannot change their items after they are created.\n",
        "\n",
        "##6.3 Sets\n",
        "Sets are unordered collections of unique items.\n",
        "\n",
        "##Definition"
      ],
      "metadata": {
        "id": "RswboXWpBfMJ"
      }
    },
    {
      "cell_type": "code",
      "source": [
        "my_set = {1, 2, 3, 4, 5}\n"
      ],
      "metadata": {
        "id": "vGbx1bu0BjSS"
      },
      "execution_count": null,
      "outputs": []
    },
    {
      "cell_type": "markdown",
      "source": [
        "##Set Operations"
      ],
      "metadata": {
        "id": "fv_4gCD-BldK"
      }
    },
    {
      "cell_type": "code",
      "source": [
        "a = {1, 2, 3}\n",
        "b = {3, 4, 5}\n",
        "\n",
        "union = a | b  # Output: {1, 2, 3, 4, 5}\n",
        "intersection = a & b  # Output: {3}\n",
        "difference = a - b  # Output: {1, 2}\n",
        "symmetric_difference = a ^ b  # Output: {1, 2, 4, 5}\n"
      ],
      "metadata": {
        "id": "RN1AqxWGBoN5"
      },
      "execution_count": null,
      "outputs": []
    },
    {
      "cell_type": "markdown",
      "source": [
        "##Built-in Methods"
      ],
      "metadata": {
        "id": "VBF8HUvwBuXE"
      }
    },
    {
      "cell_type": "code",
      "source": [
        "my_set.add(6)  # Adds 6 to the set\n",
        "my_set.remove(1)  # Removes 1 from the set\n",
        "my_set.discard(1)  # Removes 1 from the set if it exists\n",
        "my_set.pop()  # Removes and returns an arbitrary item from the set\n",
        "my_set.clear()  # Removes all items from the set\n"
      ],
      "metadata": {
        "id": "kjjSd8wlBvEO"
      },
      "execution_count": null,
      "outputs": []
    },
    {
      "cell_type": "markdown",
      "source": [
        "##6.4 Dictionaries\n",
        "Dictionaries are unordered collections of key-value pairs.\n",
        "\n",
        "##Definition"
      ],
      "metadata": {
        "id": "X9aMYEPYBwnx"
      }
    },
    {
      "cell_type": "code",
      "source": [
        "my_dict = {'a': 1, 'b': 2, 'c': 3}\n"
      ],
      "metadata": {
        "id": "ZQZ5nm-XB5os"
      },
      "execution_count": null,
      "outputs": []
    },
    {
      "cell_type": "markdown",
      "source": [
        "##Keys"
      ],
      "metadata": {
        "id": "3PQheCw4B7fu"
      }
    },
    {
      "cell_type": "code",
      "source": [
        "keys = my_dict.keys()  # Output: dict_keys(['a', 'b', 'c'])\n"
      ],
      "metadata": {
        "id": "JmdK_UJ2B8Pl"
      },
      "execution_count": null,
      "outputs": []
    },
    {
      "cell_type": "markdown",
      "source": [
        "##Values"
      ],
      "metadata": {
        "id": "pU-5cOGOB87b"
      }
    },
    {
      "cell_type": "code",
      "source": [
        "values = my_dict.values()  # Output: dict_values([1,2, 3])\n"
      ],
      "metadata": {
        "id": "otamYMZCCAT1"
      },
      "execution_count": null,
      "outputs": []
    },
    {
      "cell_type": "markdown",
      "source": [
        "##Built-in methods"
      ],
      "metadata": {
        "id": "-U8nrVMOCDbL"
      }
    },
    {
      "cell_type": "code",
      "source": [
        "\n",
        "my_dict['d'] = 4  # Adds a new key-value pair to the dictionary\n",
        "value = my_dict.get('a', 'default_value')  # Returns the value for key 'a' or the default value if the key is not found\n",
        "value = my_dict.pop('a')  # Removes the key-value pair with key 'a' and returns its value\n",
        "my_dict.update({'e': 5, 'f': 6})  # Adds multiple key-value pairs to the dictionary\n",
        "my_dict.clear()  # Removes all key-value pairs from the dictionary\n"
      ],
      "metadata": {
        "id": "ncV4ixcdCG6R"
      },
      "execution_count": null,
      "outputs": []
    },
    {
      "cell_type": "markdown",
      "source": [
        "#Exercises\n",
        "1) Create a list of integers and use slicing to print the first three elements.\n",
        "\n",
        "2) Create a tuple of strings and print the length of the tuple.\n",
        "\n",
        "3) Create a set of integers and perform union, intersection, and difference operations.\n",
        "\n",
        "4) Create a dictionary with string keys and integer values. Update the value of a specific key and print the updated dictionary.\n",
        "\n",
        "For each exercise, print the results to the console so you can verify the correctness of your code."
      ],
      "metadata": {
        "id": "7uHaYFN9CKXC"
      }
    },
    {
      "cell_type": "markdown",
      "source": [
        "#Exercise Solutions\n",
        "1) Create a list of integers and use slicing to print the first three elements."
      ],
      "metadata": {
        "id": "Q00tVbNNCRVP"
      }
    },
    {
      "cell_type": "code",
      "source": [
        "my_list = [1, 2, 3, 4, 5]\n",
        "first_three = my_list[:3]\n",
        "print(first_three)  # Output: [1, 2, 3]\n"
      ],
      "metadata": {
        "id": "1vgBtU6-CVzW"
      },
      "execution_count": null,
      "outputs": []
    },
    {
      "cell_type": "markdown",
      "source": [
        "2) Create a tuple of strings and print the length of the tuple."
      ],
      "metadata": {
        "id": "XHI1UROUCXdo"
      }
    },
    {
      "cell_type": "code",
      "source": [
        "my_tuple = ('apple', 'banana', 'cherry')\n",
        "length = len(my_tuple)\n",
        "print(length)  # Output: 3\n"
      ],
      "metadata": {
        "id": "sH8xTa43CaNr"
      },
      "execution_count": null,
      "outputs": []
    },
    {
      "cell_type": "markdown",
      "source": [
        "3) Create a set of integers and perform union, intersection, and difference operations."
      ],
      "metadata": {
        "id": "s7hsoy0tClgl"
      }
    },
    {
      "cell_type": "code",
      "source": [
        "a = {1, 2, 3}\n",
        "b = {3, 4, 5}\n",
        "\n",
        "union = a | b\n",
        "intersection = a & b\n",
        "difference = a - b\n",
        "\n",
        "print(union)  # Output: {1, 2, 3, 4, 5}\n",
        "print(intersection)  # Output: {3}\n",
        "print(difference)  # Output: {1, 2}\n"
      ],
      "metadata": {
        "id": "TNENYOmyCm0Y"
      },
      "execution_count": null,
      "outputs": []
    },
    {
      "cell_type": "markdown",
      "source": [
        "4) Create a dictionary with string keys and integer values. Update the value of a specific key and print the updated dictionary."
      ],
      "metadata": {
        "id": "6H9v9_YSCp6L"
      }
    },
    {
      "cell_type": "code",
      "source": [
        "my_dict = {'a': 1, 'b': 2, 'c': 3}\n",
        "my_dict['b'] = 5\n",
        "print(my_dict)  # Output: {'a': 1, 'b': 5, 'c': 3}"
      ],
      "metadata": {
        "id": "lTYuuyjQCsWS"
      },
      "execution_count": null,
      "outputs": []
    },
    {
      "cell_type": "markdown",
      "source": [
        "#Chapter 7: Modules and Packages\n",
        "##7.1 Importing Modules\n",
        "Modules are Python files containing code that can be imported into other Python files. You can use the import statement to import a module."
      ],
      "metadata": {
        "id": "YNJBkxcIDFHQ"
      }
    },
    {
      "cell_type": "code",
      "source": [
        "import math\n",
        "\n",
        "result = math.sqrt(16)\n",
        "print(result)  # Output: 4.0\n"
      ],
      "metadata": {
        "id": "BpqMwvK9DOzh"
      },
      "execution_count": null,
      "outputs": []
    },
    {
      "cell_type": "markdown",
      "source": [
        "##7.2 Standard Library Modules\n",
        "Python comes with a rich standard library of modules that provide useful functionality. Some examples include:\n",
        "\n",
        "#####math: Mathematical functions and constants\n",
        "#####random: Random number generation\n",
        "#####os: Operating system interaction\n",
        "#####datetime: Date and time manipulation\n",
        "#####json: JSON encoding and decoding"
      ],
      "metadata": {
        "id": "43INMljRDRBq"
      }
    },
    {
      "cell_type": "code",
      "source": [
        "import random\n",
        "\n",
        "random_number = random.randint(1, 10)\n",
        "print(random_number)\n"
      ],
      "metadata": {
        "id": "GdG0LsnFDZv3"
      },
      "execution_count": null,
      "outputs": []
    },
    {
      "cell_type": "markdown",
      "source": [
        "##7.3 Creating Custom Modules\n",
        "You can create your own Python module by writing a Python file containing functions, classes, and other code. To use the module, you simply import it in another Python file.\n",
        "\n",
        "my_module.py:"
      ],
      "metadata": {
        "id": "rP-rtGlGDbfP"
      }
    },
    {
      "cell_type": "code",
      "source": [
        "def hello():\n",
        "    print(\"Hello from my_module!\")\n"
      ],
      "metadata": {
        "id": "_g2eDyqtDfKC"
      },
      "execution_count": null,
      "outputs": []
    },
    {
      "cell_type": "markdown",
      "source": [
        "main.py:"
      ],
      "metadata": {
        "id": "m0Np8Uu5DhIb"
      }
    },
    {
      "cell_type": "code",
      "source": [
        "import my_module\n",
        "\n",
        "my_module.hello()  # Output: Hello from my_module!\n"
      ],
      "metadata": {
        "id": "g1oHM4brDjlJ"
      },
      "execution_count": null,
      "outputs": []
    },
    {
      "cell_type": "markdown",
      "source": [
        "##7.4 Organizing Modules in Packages\n",
        "Packages are directories containing Python modules. To create a package, create a directory with an __init__.py file inside it. The __init__.py file can be empty or contain initialization code for the package.\n",
        "\n",
        "my_package/"
      ],
      "metadata": {
        "id": "xjGzXhDDDmnO"
      }
    },
    {
      "cell_type": "code",
      "source": [
        "├── __init__.py\n",
        "└── my_module.py\n"
      ],
      "metadata": {
        "id": "-dqyEC13Dqa8"
      },
      "execution_count": null,
      "outputs": []
    },
    {
      "cell_type": "markdown",
      "source": [
        "##main.py:"
      ],
      "metadata": {
        "id": "Lf4C07jFDsbW"
      }
    },
    {
      "cell_type": "code",
      "source": [
        "import my_package.my_module\n",
        "\n",
        "my_package.my_module.hello()  # Output: Hello from my_module!\n"
      ],
      "metadata": {
        "id": "ekmzxc6PDupg"
      },
      "execution_count": null,
      "outputs": []
    },
    {
      "cell_type": "markdown",
      "source": [
        "##7.5 Installing and Using Third-Party Packages\n",
        "You can install third-party packages using package managers like pip. These packages are hosted on the Python Package Index (PyPI) and can be easily installed and used in your projects.\n",
        "\n",
        "For example, to install the requests package, you would run the following command in your terminal:"
      ],
      "metadata": {
        "id": "x8yKEmmADxp2"
      }
    },
    {
      "cell_type": "code",
      "source": [
        "pip install requests\n"
      ],
      "metadata": {
        "id": "KAU05D-SDzlm"
      },
      "execution_count": null,
      "outputs": []
    },
    {
      "cell_type": "markdown",
      "source": [
        "Then, you can use the package in your Python code:"
      ],
      "metadata": {
        "id": "Mh7-Gx7ZD1z3"
      }
    },
    {
      "cell_type": "code",
      "source": [
        "import requests\n",
        "\n",
        "response = requests.get(\"https://api.github.com\")\n",
        "print(response.json())\n"
      ],
      "metadata": {
        "id": "v8UGSVNID4-I"
      },
      "execution_count": null,
      "outputs": []
    },
    {
      "cell_type": "markdown",
      "source": [
        "#Exercises\n",
        "1) Import the math module and calculate the square root of 81.\n",
        "\n",
        "2) Use the random module to generate a random integer between 1 and 100.\n",
        "\n",
        "3) Create a custom module with a function that prints \"Hello, World!\" and import it into another Python file.\n",
        "\n",
        "4) Organize your custom module into a package and import it into another Python file.\n",
        "\n",
        "5)Install the requests package and make a simple GET request to \"https://api.github.com\".\n",
        "\n",
        "For each exercise, print the results to the console so you can verify the correctness of your code."
      ],
      "metadata": {
        "id": "Ts5eeJZtD-f9"
      }
    },
    {
      "cell_type": "markdown",
      "source": [
        "#Exercise Solutions\n",
        "1) Import the math module and calculate the square root of 81."
      ],
      "metadata": {
        "id": "yReunZyNEcIu"
      }
    },
    {
      "cell_type": "code",
      "source": [
        "import math\n",
        "\n",
        "result = math.sqrt(81)\n",
        "print(result)  # Output: 9.0\n"
      ],
      "metadata": {
        "id": "unKk6cYpEd3C"
      },
      "execution_count": null,
      "outputs": []
    },
    {
      "cell_type": "markdown",
      "source": [
        "2) Use the random module to generate a random integer between 1 and 100."
      ],
      "metadata": {
        "id": "BdiWgqGUEoaX"
      }
    },
    {
      "cell_type": "code",
      "source": [
        "import random\n",
        "\n",
        "random_number = random.randint(1, 100)\n",
        "print(random_number)\n"
      ],
      "metadata": {
        "id": "kqzayTvEEq3i"
      },
      "execution_count": null,
      "outputs": []
    },
    {
      "cell_type": "markdown",
      "source": [
        "3) Create a custom module with a function that prints \"Hello, World!\" and import it into another Python file.\n",
        "custom_module.py:"
      ],
      "metadata": {
        "id": "Ids7yLjzEsoQ"
      }
    },
    {
      "cell_type": "code",
      "source": [
        "def hello_world():\n",
        "    print(\"Hello, World!\")\n"
      ],
      "metadata": {
        "id": "SbDX40s5Eu3z"
      },
      "execution_count": null,
      "outputs": []
    },
    {
      "cell_type": "markdown",
      "source": [
        "main.py:"
      ],
      "metadata": {
        "id": "1WpEb3daEwnw"
      }
    },
    {
      "cell_type": "code",
      "source": [
        "import custom_module\n",
        "\n",
        "custom_module.hello_world()  # Output: Hello, World!\n"
      ],
      "metadata": {
        "colab": {
          "base_uri": "https://localhost:8080/",
          "height": 339
        },
        "id": "8SgvqVHNE0Ve",
        "outputId": "5ea7fc0b-44f0-45fd-f602-78db1c5e71b6"
      },
      "execution_count": 4,
      "outputs": [
        {
          "output_type": "error",
          "ename": "ModuleNotFoundError",
          "evalue": "ignored",
          "traceback": [
            "\u001b[0;31m---------------------------------------------------------------------------\u001b[0m",
            "\u001b[0;31mModuleNotFoundError\u001b[0m                       Traceback (most recent call last)",
            "\u001b[0;32m<ipython-input-4-90b16a4d03ed>\u001b[0m in \u001b[0;36m<cell line: 1>\u001b[0;34m()\u001b[0m\n\u001b[0;32m----> 1\u001b[0;31m \u001b[0;32mimport\u001b[0m \u001b[0mcustom_module\u001b[0m\u001b[0;34m\u001b[0m\u001b[0;34m\u001b[0m\u001b[0m\n\u001b[0m\u001b[1;32m      2\u001b[0m \u001b[0;34m\u001b[0m\u001b[0m\n\u001b[1;32m      3\u001b[0m \u001b[0mcustom_module\u001b[0m\u001b[0;34m.\u001b[0m\u001b[0mhello_world\u001b[0m\u001b[0;34m(\u001b[0m\u001b[0;34m)\u001b[0m  \u001b[0;31m# Output: Hello, World!\u001b[0m\u001b[0;34m\u001b[0m\u001b[0;34m\u001b[0m\u001b[0m\n",
            "\u001b[0;31mModuleNotFoundError\u001b[0m: No module named 'custom_module'",
            "",
            "\u001b[0;31m---------------------------------------------------------------------------\u001b[0;32m\nNOTE: If your import is failing due to a missing package, you can\nmanually install dependencies using either !pip or !apt.\n\nTo view examples of installing some common dependencies, click the\n\"Open Examples\" button below.\n\u001b[0;31m---------------------------------------------------------------------------\u001b[0m\n"
          ],
          "errorDetails": {
            "actions": [
              {
                "action": "open_url",
                "actionText": "Open Examples",
                "url": "/notebooks/snippets/importing_libraries.ipynb"
              }
            ]
          }
        }
      ]
    },
    {
      "cell_type": "markdown",
      "source": [
        "4) Organize your custom module into a package and import it into another Python file.\n",
        "my_package/\n",
        "\n"
      ],
      "metadata": {
        "id": "jgmSGT7ME3J-"
      }
    },
    {
      "cell_type": "code",
      "source": [
        "__init__.py\n",
        "custom_module.py\n"
      ],
      "metadata": {
        "colab": {
          "base_uri": "https://localhost:8080/",
          "height": 182
        },
        "id": "LlT9rtLkE9kd",
        "outputId": "98179701-bd41-4627-af78-7a61f5c5cd3b"
      },
      "execution_count": 3,
      "outputs": [
        {
          "output_type": "error",
          "ename": "NameError",
          "evalue": "ignored",
          "traceback": [
            "\u001b[0;31m---------------------------------------------------------------------------\u001b[0m",
            "\u001b[0;31mNameError\u001b[0m                                 Traceback (most recent call last)",
            "\u001b[0;32m<ipython-input-3-d931ade82172>\u001b[0m in \u001b[0;36m<cell line: 1>\u001b[0;34m()\u001b[0m\n\u001b[0;32m----> 1\u001b[0;31m \u001b[0m__init__\u001b[0m\u001b[0;34m.\u001b[0m\u001b[0mpy\u001b[0m\u001b[0;34m\u001b[0m\u001b[0;34m\u001b[0m\u001b[0m\n\u001b[0m\u001b[1;32m      2\u001b[0m \u001b[0mcustom_module\u001b[0m\u001b[0;34m.\u001b[0m\u001b[0mpy\u001b[0m\u001b[0;34m\u001b[0m\u001b[0;34m\u001b[0m\u001b[0m\n",
            "\u001b[0;31mNameError\u001b[0m: name '__init__' is not defined"
          ]
        }
      ]
    },
    {
      "cell_type": "markdown",
      "source": [
        "main.py:"
      ],
      "metadata": {
        "id": "0VhLeuqZFLuX"
      }
    },
    {
      "cell_type": "code",
      "source": [
        "import my_package.custom_module\n",
        "\n",
        "my_package.custom_module.hello_world()  # Output: Hello, World!\n"
      ],
      "metadata": {
        "id": "BdL8XZHwE-Hx"
      },
      "execution_count": null,
      "outputs": []
    },
    {
      "cell_type": "markdown",
      "source": [
        "5) Install the requests package and make a simple GET request to \"https://api.github.com\"."
      ],
      "metadata": {
        "id": "x1tgRs-7FQI6"
      }
    },
    {
      "cell_type": "code",
      "source": [
        "import requests\n",
        "\n",
        "response = requests.get(\"https://api.github.com\")\n",
        "print(response.json())\n"
      ],
      "metadata": {
        "id": "3zw_6YXeFYUy"
      },
      "execution_count": null,
      "outputs": []
    },
    {
      "cell_type": "markdown",
      "source": [
        "Make sure to install the requests package before running the code:"
      ],
      "metadata": {
        "id": "M1o_DEAoFaUZ"
      }
    },
    {
      "cell_type": "code",
      "source": [
        "!pip install requests\n"
      ],
      "metadata": {
        "id": "xZ8ZPg55FcLC"
      },
      "execution_count": null,
      "outputs": []
    },
    {
      "cell_type": "markdown",
      "source": [
        "#Chapter 8: File I/O\n",
        "##8.1 Opening and Closing Files\n",
        "You can open and close files in Python using the built-in open() function and the close() method of the file object."
      ],
      "metadata": {
        "id": "1OgJ_RTvFhgG"
      }
    },
    {
      "cell_type": "code",
      "source": [
        "file = open(\"example.txt\", \"r\")\n",
        "# Perform file operations here\n",
        "file.close()\n"
      ],
      "metadata": {
        "id": "O7_Oh-DgOzTs"
      },
      "execution_count": null,
      "outputs": []
    },
    {
      "cell_type": "markdown",
      "source": [
        "It's a good practice to use the with statement to open files, as it automatically takes care of closing the file when the block of code is exited."
      ],
      "metadata": {
        "id": "FQcUCrkuO3RG"
      }
    },
    {
      "cell_type": "code",
      "source": [
        "with open(\"example.txt\", \"r\") as file:\n",
        "    # Perform file operations here\n",
        "    pass\n"
      ],
      "metadata": {
        "id": "-uSnbsJpO266"
      },
      "execution_count": null,
      "outputs": []
    },
    {
      "cell_type": "markdown",
      "source": [
        "##8.2 Reading from Files\n",
        "You can read the contents of a file using methods like read(), readline(), and readlines()."
      ],
      "metadata": {
        "id": "qTCSHBwrO6mm"
      }
    },
    {
      "cell_type": "code",
      "source": [
        "with open(\"example.txt\", \"r\") as file:\n",
        "    content = file.read()\n",
        "    print(content)\n"
      ],
      "metadata": {
        "colab": {
          "base_uri": "https://localhost:8080/",
          "height": 200
        },
        "id": "VcEyS2ofPDks",
        "outputId": "c29fa87b-4684-41c4-f4af-216b780df91e"
      },
      "execution_count": 5,
      "outputs": [
        {
          "output_type": "error",
          "ename": "FileNotFoundError",
          "evalue": "ignored",
          "traceback": [
            "\u001b[0;31m---------------------------------------------------------------------------\u001b[0m",
            "\u001b[0;31mFileNotFoundError\u001b[0m                         Traceback (most recent call last)",
            "\u001b[0;32m<ipython-input-5-ce2abfb6be13>\u001b[0m in \u001b[0;36m<cell line: 1>\u001b[0;34m()\u001b[0m\n\u001b[0;32m----> 1\u001b[0;31m \u001b[0;32mwith\u001b[0m \u001b[0mopen\u001b[0m\u001b[0;34m(\u001b[0m\u001b[0;34m\"example.txt\"\u001b[0m\u001b[0;34m,\u001b[0m \u001b[0;34m\"r\"\u001b[0m\u001b[0;34m)\u001b[0m \u001b[0;32mas\u001b[0m \u001b[0mfile\u001b[0m\u001b[0;34m:\u001b[0m\u001b[0;34m\u001b[0m\u001b[0;34m\u001b[0m\u001b[0m\n\u001b[0m\u001b[1;32m      2\u001b[0m     \u001b[0mcontent\u001b[0m \u001b[0;34m=\u001b[0m \u001b[0mfile\u001b[0m\u001b[0;34m.\u001b[0m\u001b[0mread\u001b[0m\u001b[0;34m(\u001b[0m\u001b[0;34m)\u001b[0m\u001b[0;34m\u001b[0m\u001b[0;34m\u001b[0m\u001b[0m\n\u001b[1;32m      3\u001b[0m     \u001b[0mprint\u001b[0m\u001b[0;34m(\u001b[0m\u001b[0mcontent\u001b[0m\u001b[0;34m)\u001b[0m\u001b[0;34m\u001b[0m\u001b[0;34m\u001b[0m\u001b[0m\n",
            "\u001b[0;31mFileNotFoundError\u001b[0m: [Errno 2] No such file or directory: 'example.txt'"
          ]
        }
      ]
    },
    {
      "cell_type": "code",
      "source": [
        "with open(\"example.txt\", \"r\") as file:\n",
        "    line = file.readline()\n",
        "    print(line)\n"
      ],
      "metadata": {
        "colab": {
          "base_uri": "https://localhost:8080/",
          "height": 200
        },
        "id": "r5qz5DLePFBP",
        "outputId": "f0a39afd-8d1b-446a-ccd6-514cdc5778ae"
      },
      "execution_count": 6,
      "outputs": [
        {
          "output_type": "error",
          "ename": "FileNotFoundError",
          "evalue": "ignored",
          "traceback": [
            "\u001b[0;31m---------------------------------------------------------------------------\u001b[0m",
            "\u001b[0;31mFileNotFoundError\u001b[0m                         Traceback (most recent call last)",
            "\u001b[0;32m<ipython-input-6-cbe7f473f7ba>\u001b[0m in \u001b[0;36m<cell line: 1>\u001b[0;34m()\u001b[0m\n\u001b[0;32m----> 1\u001b[0;31m \u001b[0;32mwith\u001b[0m \u001b[0mopen\u001b[0m\u001b[0;34m(\u001b[0m\u001b[0;34m\"example.txt\"\u001b[0m\u001b[0;34m,\u001b[0m \u001b[0;34m\"r\"\u001b[0m\u001b[0;34m)\u001b[0m \u001b[0;32mas\u001b[0m \u001b[0mfile\u001b[0m\u001b[0;34m:\u001b[0m\u001b[0;34m\u001b[0m\u001b[0;34m\u001b[0m\u001b[0m\n\u001b[0m\u001b[1;32m      2\u001b[0m     \u001b[0mline\u001b[0m \u001b[0;34m=\u001b[0m \u001b[0mfile\u001b[0m\u001b[0;34m.\u001b[0m\u001b[0mreadline\u001b[0m\u001b[0;34m(\u001b[0m\u001b[0;34m)\u001b[0m\u001b[0;34m\u001b[0m\u001b[0;34m\u001b[0m\u001b[0m\n\u001b[1;32m      3\u001b[0m     \u001b[0mprint\u001b[0m\u001b[0;34m(\u001b[0m\u001b[0mline\u001b[0m\u001b[0;34m)\u001b[0m\u001b[0;34m\u001b[0m\u001b[0;34m\u001b[0m\u001b[0m\n",
            "\u001b[0;31mFileNotFoundError\u001b[0m: [Errno 2] No such file or directory: 'example.txt'"
          ]
        }
      ]
    },
    {
      "cell_type": "code",
      "source": [
        "with open(\"example.txt\", \"r\") as file:\n",
        "    lines = file.readlines()\n",
        "    print(lines)\n"
      ],
      "metadata": {
        "id": "UUi3Em9YPFdH"
      },
      "execution_count": null,
      "outputs": []
    },
    {
      "cell_type": "markdown",
      "source": [
        "You can also iterate through the lines of a file using a for loop:"
      ],
      "metadata": {
        "id": "bFdOfhTLPJI3"
      }
    },
    {
      "cell_type": "code",
      "source": [
        "with open(\"example.txt\", \"r\") as file:\n",
        "    for line in file:\n",
        "        print(line.strip())\n"
      ],
      "metadata": {
        "id": "jojml_hiPJw9"
      },
      "execution_count": null,
      "outputs": []
    },
    {
      "cell_type": "markdown",
      "source": [
        "##8.3 Writing to Files\n",
        "You can write to a file using the write() method. Make sure to open the file in write mode (\"w\" or \"a\")."
      ],
      "metadata": {
        "id": "qEf4vnfAPNDk"
      }
    },
    {
      "cell_type": "code",
      "source": [
        "with open(\"output.txt\", \"w\") as file:\n",
        "    file.write(\"Hello, World!\")\n"
      ],
      "metadata": {
        "id": "soEZy1wqPOBG"
      },
      "execution_count": null,
      "outputs": []
    },
    {
      "cell_type": "markdown",
      "source": [
        "##8.4 File Modes and Buffering\n",
        "When opening a file, you can specify the file mode:\n",
        "\n",
        "#####\"r\": read mode (default)\n",
        "#####\"w\": write mode (overwrites the file)\n",
        "#####\"a\": append mode (appends to the end of the file)\n",
        "#####\"x\": exclusive creation mode (creates a new file, fails if the file exists)\n",
        "#####\"b\": binary mode (used for non-text files)\n",
        "#####You can also specify a buffering strategy:\n",
        "\n",
        "#####-1: default buffering (uses the system default)\n",
        "#####0: unbuffered (only works in binary mode)\n",
        "#####>0: buffered with a buffer of the specified size"
      ],
      "metadata": {
        "id": "nArwQ2YdPPW-"
      }
    },
    {
      "cell_type": "code",
      "source": [
        "with open(\"output.txt\", \"w\", buffering=1) as file:\n",
        "    file.write(\"Hello, World!\")\n"
      ],
      "metadata": {
        "id": "NNr1cJUQPZl0"
      },
      "execution_count": null,
      "outputs": []
    },
    {
      "cell_type": "markdown",
      "source": [
        "##8.5 Working with Directories\n",
        "The os module provides functions for working with directories."
      ],
      "metadata": {
        "id": "WLJgMZQvPb-e"
      }
    },
    {
      "cell_type": "code",
      "source": [
        "import os\n",
        "\n",
        "# Get the current working directory\n",
        "current_directory = os.getcwd()\n",
        "print(current_directory)\n",
        "\n",
        "# Change the current working directory\n",
        "os.chdir(\"/path/to/directory\")\n",
        "\n",
        "# List the contents of a directory\n",
        "directory_contents = os.listdir()\n",
        "print(directory_contents)\n",
        "\n",
        "# Create a new directory\n",
        "os.mkdir(\"new_directory\")\n",
        "\n",
        "# Remove an empty directory\n",
        "os.rmdir(\"new_directory\")\n"
      ],
      "metadata": {
        "id": "JLxT-IlqPeaR"
      },
      "execution_count": null,
      "outputs": []
    },
    {
      "cell_type": "markdown",
      "source": [
        "#Exercises\n",
        "1) Read the contents of a text file and print them to the console.\n",
        "\n",
        "2) Write a list of strings to a text file, one string per line.\n",
        "\n",
        "3) Append a string to an existing text file.\n",
        "\n",
        "4)List the contents of the current directory.\n",
        "\n",
        "5)Create a new directory and remove it.\n",
        "\n",
        "For each exercise, print the results to the console so you can verify the correctness of your code."
      ],
      "metadata": {
        "id": "lN0eA6zLPg5j"
      }
    },
    {
      "cell_type": "markdown",
      "source": [
        "#Exercise Solutions\n",
        "1) Read the contents of a text file and print them to the console."
      ],
      "metadata": {
        "id": "2JJ9ZH3yPsWR"
      }
    },
    {
      "cell_type": "code",
      "source": [
        "with open(\"example.txt\", \"r\") as file:\n",
        "    content = file.read()\n",
        "    print(content)\n"
      ],
      "metadata": {
        "id": "T-0E3dmpPvkp"
      },
      "execution_count": null,
      "outputs": []
    },
    {
      "cell_type": "markdown",
      "source": [
        "2) Write a list of strings to a text file, one string per line."
      ],
      "metadata": {
        "id": "7hxBpvKAPxCF"
      }
    },
    {
      "cell_type": "code",
      "source": [
        "strings = [\"hello\", \"world\", \"python\"]\n",
        "\n",
        "with open(\"output.txt\", \"w\") as file:\n",
        "    for string in strings:\n",
        "        file.write(string + \"\\n\")\n"
      ],
      "metadata": {
        "id": "0t8_QzRWPzQP"
      },
      "execution_count": null,
      "outputs": []
    },
    {
      "cell_type": "markdown",
      "source": [
        "3) Append a string to an existing text file."
      ],
      "metadata": {
        "id": "UcxULAcAP0vs"
      }
    },
    {
      "cell_type": "code",
      "source": [
        "with open(\"output.txt\", \"a\") as file:\n",
        "    file.write(\"appended_string\\n\")\n"
      ],
      "metadata": {
        "id": "4plaw0gBP2vW"
      },
      "execution_count": null,
      "outputs": []
    },
    {
      "cell_type": "markdown",
      "source": [
        "4) List the contents of the current directory."
      ],
      "metadata": {
        "id": "UOU7vBzLP5oH"
      }
    },
    {
      "cell_type": "code",
      "source": [
        "import os\n",
        "\n",
        "directory_contents = os.listdir()\n",
        "print(directory_contents)\n"
      ],
      "metadata": {
        "id": "eKsUDX_nP7FZ"
      },
      "execution_count": null,
      "outputs": []
    },
    {
      "cell_type": "markdown",
      "source": [
        "5) Create a new directory and remove it."
      ],
      "metadata": {
        "id": "v9kwV1r5P8fI"
      }
    },
    {
      "cell_type": "code",
      "source": [
        "import os\n",
        "\n",
        "os.mkdir(\"new_directory\")\n",
        "os.rmdir(\"new_directory\")\n",
        "\n",
        "'''Make sure that the text files used in the examples exist in the working directory or modify \n",
        "the examples to use the appropriate file paths.'''\n"
      ],
      "metadata": {
        "id": "C1_2FpezP_ti"
      },
      "execution_count": null,
      "outputs": []
    },
    {
      "cell_type": "markdown",
      "source": [
        "#Chapter 9: Error Handling\n",
        "##9.1 Syntax Errors vs. Exceptions\n",
        "Syntax errors occur when the Python parser encounters code that does not conform to the language's syntax rules. Exceptions are runtime errors that occur when Python encounters an issue while executing the code."
      ],
      "metadata": {
        "id": "IQId5jk9QF8P"
      }
    },
    {
      "cell_type": "code",
      "source": [
        "# Syntax error\n",
        "print(\"Hello, World!)\n",
        "\n",
        "# Exception\n",
        "print(1 / 0)  # ZeroDivisionError\n"
      ],
      "metadata": {
        "id": "cwyjN5WxTHwU"
      },
      "execution_count": null,
      "outputs": []
    },
    {
      "cell_type": "markdown",
      "source": [
        "##9.2 Common Exceptions in Python\n",
        "Some common exceptions in Python are:\n",
        "\n",
        "#####ZeroDivisionError: Raised when attempting to divide by zero\n",
        "#####TypeError: Raised when an operation is applied to an object of an inappropriate type\n",
        "#####NameError: Raised when a local or global name is not found\n",
        "#####FileNotFoundError: Raised when the specified file is not found\n",
        "##9.3 Handling Exceptions with try and except\n",
        "You can use the try and except statements to handle exceptions in Python."
      ],
      "metadata": {
        "id": "u2UcggrGTIXF"
      }
    },
    {
      "cell_type": "code",
      "source": [
        "try:\n",
        "    result = 1 / 0\n",
        "except ZeroDivisionError:\n",
        "    print(\"Cannot divide by zero!\")\n"
      ],
      "metadata": {
        "id": "JZT578Z8TQc3"
      },
      "execution_count": null,
      "outputs": []
    },
    {
      "cell_type": "markdown",
      "source": [
        "You can catch multiple exceptions in the same except block:"
      ],
      "metadata": {
        "id": "hcGuBdgHTS8R"
      }
    },
    {
      "cell_type": "code",
      "source": [
        "try:\n",
        "    result = int(\"abc\")\n",
        "except (TypeError, ValueError):\n",
        "    print(\"Invalid input!\")\n"
      ],
      "metadata": {
        "id": "opbYV6_JTTf-"
      },
      "execution_count": null,
      "outputs": []
    },
    {
      "cell_type": "markdown",
      "source": [
        "##9.4 Using finally and else in Exception Handling\n",
        "The finally block is executed no matter what, whether an exception occurs or not. The else block is executed when no exception occurs."
      ],
      "metadata": {
        "id": "S7cAn0GrTVvO"
      }
    },
    {
      "cell_type": "code",
      "source": [
        "try:\n",
        "    result = 1 / 2\n",
        "except ZeroDivisionError:\n",
        "    print(\"Cannot divide by zero!\")\n",
        "else:\n",
        "    print(\"No exception occurred.\")\n",
        "finally:\n",
        "    print(\"This will always be executed.\")\n"
      ],
      "metadata": {
        "id": "8CoI3eS3TYT8"
      },
      "execution_count": null,
      "outputs": []
    },
    {
      "cell_type": "markdown",
      "source": [
        "##9.5 Raising Exceptions with raise\n",
        "You can raise exceptions using the raise statement. This is useful when you want to enforce certain conditions in your code."
      ],
      "metadata": {
        "id": "M7wVYB8HTZ31"
      }
    },
    {
      "cell_type": "code",
      "source": [
        "def divide(a, b):\n",
        "    if b == 0:\n",
        "        raise ValueError(\"Cannot divide by zero.\")\n",
        "    return a / b\n"
      ],
      "metadata": {
        "id": "ycZcqeBDTbu7"
      },
      "execution_count": null,
      "outputs": []
    },
    {
      "cell_type": "markdown",
      "source": [
        "##9.6 Creating Custom Exceptions\n",
        "To create a custom exception, define a new class that inherits from the Exception class or one of its subclasses."
      ],
      "metadata": {
        "id": "1VB9z-tNTc1Q"
      }
    },
    {
      "cell_type": "code",
      "source": [
        "class MyCustomError(Exception):\n",
        "    pass\n",
        "\n",
        "try:\n",
        "    raise MyCustomError(\"This is a custom exception!\")\n",
        "except MyCustomError as e:\n",
        "    print(e)\n"
      ],
      "metadata": {
        "id": "5FTs4HuGTgj-"
      },
      "execution_count": null,
      "outputs": []
    },
    {
      "cell_type": "markdown",
      "source": [
        "#Exercises\n",
        "1) Write a function that divides two numbers and handles the ZeroDivisionError exception.\n",
        "\n",
        "2) Write a function that opens a file and reads its contents, handling the FileNotFoundError exception.\n",
        "\n",
        "3) Write a function that raises a custom exception when a certain condition is not met.\n",
        "\n",
        "4) Write a function that uses try, except, else, and finally blocks to demonstrate their behavior in different scenarios.\n",
        "\n",
        "For each exercise, print the results to the console so you can verify the correctness of your code."
      ],
      "metadata": {
        "id": "PfXyQjg9ThLB"
      }
    },
    {
      "cell_type": "markdown",
      "source": [
        "#Exercise Solutions\n",
        "1) Write a function that divides two numbers and handles the ZeroDivisionError exception."
      ],
      "metadata": {
        "id": "wL2uVKIyTq36"
      }
    },
    {
      "cell_type": "code",
      "source": [
        "def safe_divide(a, b):\n",
        "    try:\n",
        "        result = a / b\n",
        "    except ZeroDivisionError:\n",
        "        print(\"Cannot divide by zero!\")\n",
        "        result = None\n",
        "    return result\n",
        "\n",
        "print(safe_divide(4, 2))  # Output: 2.0\n",
        "print(safe_divide(4, 0))  # Output: Cannot divide by zero!\n"
      ],
      "metadata": {
        "id": "-ih2ZG5iTu-C"
      },
      "execution_count": null,
      "outputs": []
    },
    {
      "cell_type": "markdown",
      "source": [
        "2) Write a function that opens a file and reads its contents, handling the FileNotFoundError exception."
      ],
      "metadata": {
        "id": "QxcjurerTyhu"
      }
    },
    {
      "cell_type": "code",
      "source": [
        "def read_file(filename):\n",
        "    try:\n",
        "        with open(filename, \"r\") as file:\n",
        "            content = file.read()\n",
        "    except FileNotFoundError:\n",
        "        print(f\"File not found: {filename}\")\n",
        "        content = None\n",
        "    return content\n",
        "\n",
        "print(read_file(\"example.txt\"))  # Output: (file content)\n",
        "print(read_file(\"nonexistent.txt\"))  # Output: File not found: nonexistent.txt\n"
      ],
      "metadata": {
        "id": "mLuClRxjT1FW"
      },
      "execution_count": null,
      "outputs": []
    },
    {
      "cell_type": "markdown",
      "source": [
        "3) Write a function that raises a custom exception when a certain condition is not met."
      ],
      "metadata": {
        "id": "phxV47TeT1rq"
      }
    },
    {
      "cell_type": "code",
      "source": [
        "class InvalidInputError(Exception):\n",
        "    pass\n",
        "\n",
        "def validate_input(value):\n",
        "    if value < 0:\n",
        "        raise InvalidInputError(\"Input must be a non-negative number.\")\n",
        "    return value\n",
        "\n",
        "try:\n",
        "    validate_input(-1)\n",
        "except InvalidInputError as e:\n",
        "    print(e)  # Output: Input must be a non-negative number.\n"
      ],
      "metadata": {
        "id": "5hGsgDN5T49Q"
      },
      "execution_count": null,
      "outputs": []
    },
    {
      "cell_type": "markdown",
      "source": [
        "4) Write a function that uses try, except, else, and finally blocks to demonstrate their behavior in different scenarios."
      ],
      "metadata": {
        "id": "H0izzZEuT6hO"
      }
    },
    {
      "cell_type": "code",
      "source": [
        "def example_function(divisor):\n",
        "    try:\n",
        "        result = 10 / divisor\n",
        "    except ZeroDivisionError:\n",
        "        print(\"Cannot divide by zero!\")\n",
        "    else:\n",
        "        print(f\"Result: {result}\")\n",
        "    finally:\n",
        "        print(\"This will always be executed.\")\n",
        "\n",
        "example_function(2)  # Output: Result: 5.0 / This will always be executed.\n",
        "example_function(0)  # Output: Cannot divide by zero! / This will always be executed.\n"
      ],
      "metadata": {
        "id": "5Nv5UQLdT7_T"
      },
      "execution_count": null,
      "outputs": []
    },
    {
      "cell_type": "markdown",
      "source": [
        "For each exercise, make sure that the necessary files or conditions are in place before executing the code."
      ],
      "metadata": {
        "id": "65wPDp2kT-W3"
      }
    },
    {
      "cell_type": "markdown",
      "source": [
        "#Chapter 10: Object-Oriented Programming (OOP)\n",
        "##10.1 Introduction to OOP\n",
        "Object-oriented programming (OOP) is a programming paradigm that uses objects, which contain data (attributes) and functions (methods), to design and implement software. OOP encourages code reusability and modularity.\n",
        "\n",
        "##10.2 Defining Classes and Creating Objects\n",
        "You can define a class using the class keyword, and create objects (instances) of the class by calling the class name like a function."
      ],
      "metadata": {
        "id": "NMcLhl-dT-5T"
      }
    },
    {
      "cell_type": "code",
      "source": [
        "class Dog:\n",
        "    def __init__(self, name):\n",
        "        self.name = name\n",
        "\n",
        "    def bark(self):\n",
        "        print(f\"{self.name} says woof!\")\n",
        "\n",
        "dog = Dog(\"Fido\")\n",
        "dog.bark()  # Output: Fido says woof!\n"
      ],
      "metadata": {
        "id": "1YITn_XmVCMr"
      },
      "execution_count": null,
      "outputs": []
    },
    {
      "cell_type": "markdown",
      "source": [
        "##10.3 Instance Variables and Methods\n",
        "Instance variables are attributes of an object that are specific to each instance. Instance methods are functions that are associated with an object and can access or modify its instance variables."
      ],
      "metadata": {
        "id": "v8WckgDnVDFO"
      }
    },
    {
      "cell_type": "code",
      "source": [
        "class Dog:\n",
        "    def __init__(self, name, age):\n",
        "        self.name = name\n",
        "        self.age = age\n",
        "\n",
        "    def get_age(self):\n",
        "        return self.age\n",
        "\n",
        "dog = Dog(\"Fido\", 3)\n",
        "print(dog.get_age())  # Output: 3\n"
      ],
      "metadata": {
        "id": "H8TsSsUrVGeh"
      },
      "execution_count": null,
      "outputs": []
    },
    {
      "cell_type": "markdown",
      "source": [
        "##10.4 Class Variables and Methods\n",
        "Class variables are attributes that are shared by all instances of a class. Class methods are functions that work with class variables and are bound to the class, not an instance."
      ],
      "metadata": {
        "id": "ch_4cmdcVHI6"
      }
    },
    {
      "cell_type": "code",
      "source": [
        "class Dog:\n",
        "    species = \"Canis lupus familiaris\"\n",
        "\n",
        "    def __init__(self, name, age):\n",
        "        self.name = name\n",
        "        self.age = age\n",
        "\n",
        "    @classmethod\n",
        "    def get_species(cls):\n",
        "        return cls.species\n",
        "\n",
        "dog = Dog(\"Fido\", 3)\n",
        "print(Dog.get_species())  # Output: Canis lupus familiaris\n"
      ],
      "metadata": {
        "id": "54a_nbM7VKu3"
      },
      "execution_count": null,
      "outputs": []
    },
    {
      "cell_type": "markdown",
      "source": [
        "##10.5 Inheritance and Polymorphism\n",
        "Inheritance allows a class to inherit attributes and methods from a parent (base) class. Polymorphism allows a class to redefine or extend the functionality of its parent class."
      ],
      "metadata": {
        "id": "z5aGKnSsVMJW"
      }
    },
    {
      "cell_type": "code",
      "source": [
        "class Animal:\n",
        "    def make_sound(self):\n",
        "        pass\n",
        "\n",
        "class Dog(Animal):\n",
        "    def make_sound(self):\n",
        "        print(\"Woof!\")\n",
        "\n",
        "class Cat(Animal):\n",
        "    def make_sound(self):\n",
        "        print(\"Meow!\")\n",
        "\n",
        "dog = Dog()\n",
        "cat = Cat()\n",
        "dog.make_sound()  # Output: Woof!\n",
        "cat.make_sound()  # Output: Meow!\n"
      ],
      "metadata": {
        "id": "tBIAwpbzVOua"
      },
      "execution_count": null,
      "outputs": []
    },
    {
      "cell_type": "markdown",
      "source": [
        "##10.6 Encapsulation and Property Decorators\n",
        "Encapsulation is the practice of hiding the internal state of an object and providing methods to access or modify that state. Property decorators allow you to create getter and setter methods for instance variables."
      ],
      "metadata": {
        "id": "f3eKy6FuVakW"
      }
    },
    {
      "cell_type": "code",
      "source": [
        "class Circle:\n",
        "    def __init__(self, radius):\n",
        "        self._radius = radius\n",
        "\n",
        "    @property\n",
        "    def radius(self):\n",
        "        return self._radius\n",
        "\n",
        "    @radius.setter\n",
        "    def radius(self, value):\n",
        "        if value < 0:\n",
        "            raise ValueError(\"Radius cannot be negative\")\n",
        "        self._radius = value\n",
        "\n",
        "circle = Circle(5)\n",
        "print(circle.radius)  # Output: 5\n",
        "circle.radius = 10\n",
        "print(circle.radius)  # Output: 10\n"
      ],
      "metadata": {
        "id": "eJsrgNIGVca-"
      },
      "execution_count": null,
      "outputs": []
    },
    {
      "cell_type": "markdown",
      "source": [
        "#Exercises\n",
        "1) Create a class Person with instance variables for name and age, and a method to display the person's info.\n",
        "\n",
        "2) Create a class Rectangle with instance variables for width and height, and methods to calculate the area and perimeter.\n",
        "\n",
        "3) Create a class BankAccount with instance variables for balance, and methods to deposit and withdraw money."
      ],
      "metadata": {
        "id": "TGR5xyqSVeoJ"
      }
    },
    {
      "cell_type": "markdown",
      "source": [
        "#Exercise Solutions\n",
        "1) Create a class Person with instance variables for name and age, and a method to display the person's info."
      ],
      "metadata": {
        "id": "u-Hvptu7Vjkp"
      }
    },
    {
      "cell_type": "code",
      "source": [
        "class Person:\n",
        "    def __init__(self, name, age):\n",
        "        self.name = name\n",
        "        self.age = age\n",
        "\n",
        "    def display_info(self):\n",
        "        print(f\"Name: {self.name}, Age: {self.age}\")\n",
        "\n",
        "person = Person(\"Alice\", 30)\n",
        "person.display_info()  # Output: Name: Alice, Age: 30\n"
      ],
      "metadata": {
        "id": "69U1RCe5Vmtl"
      },
      "execution_count": null,
      "outputs": []
    },
    {
      "cell_type": "markdown",
      "source": [
        "2) Create a class Rectangle with instance variables for width and height, and methods to calculate the area and perimeter."
      ],
      "metadata": {
        "id": "OF7Th-4FVnQV"
      }
    },
    {
      "cell_type": "code",
      "source": [
        "class Rectangle:\n",
        "    def __init__(self, width, height):\n",
        "        self.width = width\n",
        "        self.height = height\n",
        "\n",
        "    def area(self):\n",
        "        return self.width * self.height\n",
        "\n",
        "    def perimeter(self):\n",
        "        return 2 * (self.width + self.height)\n",
        "\n",
        "rectangle = Rectangle(4, 5)\n",
        "print(rectangle.area())  # Output: 20\n",
        "print(rectangle.perimeter())  # Output: 18\n"
      ],
      "metadata": {
        "id": "YTrgTbCLVpGx"
      },
      "execution_count": null,
      "outputs": []
    },
    {
      "cell_type": "markdown",
      "source": [
        "3) Create a class BankAccount with instance variables for balance, and methods to deposit and withdraw money."
      ],
      "metadata": {
        "id": "U6StWXTDVqQ0"
      }
    },
    {
      "cell_type": "code",
      "source": [
        "class BankAccount:\n",
        "    def __init__(self, balance=0):\n",
        "        self.balance = balance\n",
        "\n",
        "    def deposit(self, amount):\n",
        "        self.balance += amount\n",
        "        print(f\"Deposited: {amount}, New balance: {self.balance}\")\n",
        "\n",
        "    def withdraw(self, amount):\n",
        "        if amount > self.balance:\n",
        "            print(\"Insufficient funds\")\n",
        "            return\n",
        "        self.balance -= amount\n",
        "        print(f\"Withdrew: {amount}, New balance: {self.balance}\")\n",
        "\n",
        "account = BankAccount(100)\n",
        "account.deposit(50)  # Output: Deposited: 50, New balance: 150\n",
        "account.withdraw(60)  # Output: Withdrew: 60, New balance: 90\n",
        "account.withdraw(100)  # Output: Insufficient funds\n"
      ],
      "metadata": {
        "id": "5XahPUdVVtXf"
      },
      "execution_count": null,
      "outputs": []
    },
    {
      "cell_type": "markdown",
      "source": [
        "These solutions demonstrate the basic implementation of the classes described in the exercises. You can modify or extend them to suit your needs."
      ],
      "metadata": {
        "id": "zOB2XYWiVvAq"
      }
    },
    {
      "cell_type": "markdown",
      "source": [
        "#Chapter 11: Useful Python Libraries\n",
        "#11.1 math: Mathematical Functions\n",
        "The math library provides functions to perform mathematical operations and work with mathematical constants."
      ],
      "metadata": {
        "id": "uyvQDUpvVvjT"
      }
    },
    {
      "cell_type": "code",
      "source": [
        "import math\n",
        "\n",
        "print(math.sqrt(25))  # Output: 5.0\n",
        "print(math.pi)        # Output: 3.141592653589793\n"
      ],
      "metadata": {
        "id": "0kaKeKiHWebP"
      },
      "execution_count": null,
      "outputs": []
    },
    {
      "cell_type": "markdown",
      "source": [
        "##11.2 random: Generating Random Numbers\n",
        "The random library provides functions to generate random numbers and perform random operations on sequences."
      ],
      "metadata": {
        "id": "5FlWmQh3Wfvu"
      }
    },
    {
      "cell_type": "code",
      "source": [
        "import random\n",
        "\n",
        "print(random.randint(1, 6))  # Output: A random number between 1 and 6 (inclusive)\n",
        "print(random.choice([\"red\", \"green\", \"blue\"]))  # Output: A random color from the list\n"
      ],
      "metadata": {
        "id": "KXbus_lkWh2Z"
      },
      "execution_count": null,
      "outputs": []
    },
    {
      "cell_type": "markdown",
      "source": [
        "##11.3 datetime: Working with Dates and Times\n",
        "The datetime library provides classes to work with dates, times, and time intervals."
      ],
      "metadata": {
        "id": "IvZpeLc_Wjf-"
      }
    },
    {
      "cell_type": "code",
      "source": [
        "import datetime\n",
        "\n",
        "now = datetime.datetime.now()\n",
        "print(now)  # Output: Current date and time\n",
        "\n",
        "date = datetime.date(2023, 1, 1)\n",
        "print(date)  # Output: 2023-01-01\n",
        "\n",
        "time = datetime.time(12, 34, 56)\n",
        "print(time)  # Output: 12:34:56\n"
      ],
      "metadata": {
        "id": "NYp-Y0tmWkR8"
      },
      "execution_count": null,
      "outputs": []
    },
    {
      "cell_type": "markdown",
      "source": [
        "##11.4 os: Operating System Interfaces\n",
        "The os library provides functions to interact with the operating system, such as working with files and directories."
      ],
      "metadata": {
        "id": "dtZpBygRWm5B"
      }
    },
    {
      "cell_type": "code",
      "source": [
        "import os\n",
        "\n",
        "print(os.getcwd())  # Output: Current working directory\n",
        "\n",
        "os.mkdir(\"example_directory\")  # Creates a new directory\n",
        "os.rmdir(\"example_directory\")  # Removes the directory\n"
      ],
      "metadata": {
        "id": "TT_b-X32WpC0"
      },
      "execution_count": null,
      "outputs": []
    },
    {
      "cell_type": "markdown",
      "source": [
        "##11.5 re: Regular Expressions\n",
        "The re library provides functions to work with regular expressions, which are patterns used to match and manipulate strings."
      ],
      "metadata": {
        "id": "gBj9XKy1WrKg"
      }
    },
    {
      "cell_type": "code",
      "source": [
        "import re\n",
        "\n",
        "pattern = r\"\\d+\"\n",
        "text = \"There are 3 apples and 4 oranges.\"\n",
        "\n",
        "matches = re.findall(pattern, text)\n",
        "print(matches)  # Output: ['3', '4']\n"
      ],
      "metadata": {
        "id": "-As3o9UMWtEk"
      },
      "execution_count": null,
      "outputs": []
    },
    {
      "cell_type": "markdown",
      "source": [
        "##11.6 json: Working with JSON Data\n",
        "The json library provides functions to encode and decode JSON data."
      ],
      "metadata": {
        "id": "v0J6OaQ_Wu60"
      }
    },
    {
      "cell_type": "code",
      "source": [
        "import json\n",
        "\n",
        "data = {\n",
        "    \"name\": \"Alice\",\n",
        "    \"age\": 30\n",
        "}\n",
        "\n",
        "json_string = json.dumps(data)\n",
        "print(json_string)  # Output: '{\"name\": \"Alice\", \"age\": 30}'\n",
        "\n",
        "decoded_data = json.loads(json_string)\n",
        "print(decoded_data)  # Output: {'name': 'Alice', 'age': 30}\n"
      ],
      "metadata": {
        "id": "DXAoPqC8Ww-H"
      },
      "execution_count": null,
      "outputs": []
    },
    {
      "cell_type": "markdown",
      "source": [
        "#Exercises\n",
        "1) Use the math library to calculate the area of a circle with a given radius.\n",
        "\n",
        "2) Use the random library to simulate rolling two six-sided dice and print the sum of their values.\n",
        "\n",
        "3) Use the datetime library to calculate the number of days between two given dates.\n",
        "\n",
        "4) Use the os library to create a new directory, list its contents, and then remove the directory.\n",
        "\n",
        "5) Use the re library to find and print all email addresses in a given text string.\n",
        "\n",
        "6) Use the json library to encode a Python dictionary as a JSON string and then decode it back into a dictionary."
      ],
      "metadata": {
        "id": "6xBF-ZkaW0Tb"
      }
    },
    {
      "cell_type": "markdown",
      "source": [
        "#Exercise Solutions\n",
        "1) Use the math library to calculate the area of a circle with a given radius."
      ],
      "metadata": {
        "id": "DRj8d-l7W83w"
      }
    },
    {
      "cell_type": "code",
      "source": [
        "import math\n",
        "\n",
        "def circle_area(radius):\n",
        "    return math.pi * radius ** 2\n",
        "\n",
        "print(circle_area(5))  # Output: 78.53981633974483\n"
      ],
      "metadata": {
        "id": "e3G77hrzW-0k"
      },
      "execution_count": null,
      "outputs": []
    },
    {
      "cell_type": "markdown",
      "source": [
        "2) Use the random library to simulate rolling two six-sided dice and print the sum of their values."
      ],
      "metadata": {
        "id": "Fg7VjmRAW_cT"
      }
    },
    {
      "cell_type": "code",
      "source": [
        "import random\n",
        "\n",
        "def roll_dice():\n",
        "    return random.randint(1, 6)\n",
        "\n",
        "dice1 = roll_dice()\n",
        "dice2 = roll_dice()\n",
        "print(dice1, dice2, \"Sum:\", dice1 + dice2)\n"
      ],
      "metadata": {
        "id": "bVyaPiKcXCJN"
      },
      "execution_count": null,
      "outputs": []
    },
    {
      "cell_type": "markdown",
      "source": [
        "3) Use the datetime library to calculate the number of days between two given dates."
      ],
      "metadata": {
        "id": "qd79_KvxXEJy"
      }
    },
    {
      "cell_type": "code",
      "source": [
        "import datetime\n",
        "\n",
        "def days_between_dates(date1, date2):\n",
        "    return abs((date2 - date1).days)\n",
        "\n",
        "date1 = datetime.date(2023, 1, 1)\n",
        "date2 = datetime.date(2023, 4, 11)\n",
        "print(days_between_dates(date1, date2))  # Output: 100\n"
      ],
      "metadata": {
        "id": "4-XBwi0TXFK-"
      },
      "execution_count": null,
      "outputs": []
    },
    {
      "cell_type": "markdown",
      "source": [
        "4) Use the os library to create a new directory, list its contents, and then remove the directory."
      ],
      "metadata": {
        "id": "AGubnbTYXGHw"
      }
    },
    {
      "cell_type": "code",
      "source": [
        "import os\n",
        "\n",
        "directory_name = \"example_directory\"\n",
        "\n",
        "os.mkdir(directory_name)  # Creates a new directory\n",
        "print(os.listdir())  # Lists the contents of the current directory\n",
        "os.rmdir(directory_name)  # Removes the directory\n"
      ],
      "metadata": {
        "id": "6P7MbYFsXJOK"
      },
      "execution_count": null,
      "outputs": []
    },
    {
      "cell_type": "markdown",
      "source": [
        "5) Use the re library to find and print all email addresses in a given text string."
      ],
      "metadata": {
        "id": "Hbpc4yBBXJuX"
      }
    },
    {
      "cell_type": "code",
      "source": [
        "import re\n",
        "\n",
        "def find_emails(text):\n",
        "    pattern = r\"[a-zA-Z0-9._%+-]+@[a-zA-Z0-9.-]+\\.[a-zA-Z]{2,}\"\n",
        "    return re.findall(pattern, text)\n",
        "\n",
        "text = \"Send emails to alice@example.com and bob@example.org.\"\n",
        "print(find_emails(text))  # Output: ['alice@example.com', 'bob@example.org']\n"
      ],
      "metadata": {
        "id": "PlalFlPBXL6q"
      },
      "execution_count": null,
      "outputs": []
    },
    {
      "cell_type": "markdown",
      "source": [
        "6) Use the json library to encode a Python dictionary as a JSON string and then decode it back into a dictionary."
      ],
      "metadata": {
        "id": "q04VvVRvXN6B"
      }
    },
    {
      "cell_type": "code",
      "source": [
        "import json\n",
        "\n",
        "data = {\n",
        "    \"name\": \"Alice\",\n",
        "    \"age\": 30\n",
        "}\n",
        "\n",
        "json_string = json.dumps(data)\n",
        "print(json_string)  # Output: '{\"name\": \"Alice\", \"age\": 30}'\n",
        "\n",
        "decoded_data = json.loads(json_string)\n",
        "print(decoded_data)  # Output: {'name': 'Alice', 'age': 30}\n"
      ],
      "metadata": {
        "id": "gxqTlNjNXQI7"
      },
      "execution_count": null,
      "outputs": []
    },
    {
      "cell_type": "markdown",
      "source": [
        "These solutions demonstrate the basic usage of the libraries in the exercises. You can modify or extend them to suit your needs."
      ],
      "metadata": {
        "id": "_-XiA_GYXQsj"
      }
    },
    {
      "cell_type": "markdown",
      "source": [
        "#Chapter 12: Conclusion\n",
        "##12.1 Summary of the Book\n",
        "Throughout this book, we've covered the fundamental concepts and features of Python, starting with an introduction to Python's history, its strengths and weaknesses, and how to set up your environment. We then delved into Python syntax, data types, control flow, functions, and data structures.\n",
        "\n",
        "We also explored more advanced topics like modules, packages, file I/O, error handling, and object-oriented programming. Finally, we introduced you to some useful Python libraries that can greatly enhance your programming capabilities.\n",
        "\n",
        "##12.2 Next Steps in Learning Python\n",
        "Now that you have a solid understanding of Python's core concepts and features, it's time to start building your own projects and experimenting with more advanced topics. Some next steps you might consider include:\n",
        "\n",
        "#####Deepening your understanding of Python's standard library, which contains many useful modules and functions.\n",
        "\n",
        "#####Learning more about Python's built-in data structures and algorithms, and how to use them effectively.\n",
        "\n",
        "#####Exploring popular Python libraries for specific domains, such as NumPy and pandas for data analysis, Flask and Django for web development, and TensorFlow and PyTorch for machine learning.\n",
        "\n",
        "#####Practicing your Python skills by working on real-world projects, contributing to open-source projects, or participating in coding challenges and competitions.\n",
        "##12.3 Python Coding Resources and Communities\n",
        "\n",
        "#####As you continue your Python journey, you'll likely encounter challenges and questions along the way. Fortunately, there are many resources and communities available to help you deepen your knowledge and improve your skills. Some of these include:\n",
        "\n",
        "\n",
        "#####Official Python documentation: The Python documentation provides comprehensive information about the language, its features, and standard library modules.\n",
        "\n",
        "#####Stack Overflow: Stack Overflow is a popular question-and-answer platform for programmers, where you can find answers to many common Python-related questions.\n",
        "\n",
        "#####Python.org Community: The Python community page provides a list of mailing lists, forums, and other resources for discussing and learning about Python.\n",
        "\n",
        "#####Reddit: The r/Python subreddit is a great place to discuss Python-related topics, share your projects, and learn about new developments in the Python ecosystem.\n",
        "\n",
        "#####Real Python: Real Python offers high-quality tutorials, articles, and other learning resources for Python developers of all levels.\n",
        "\n",
        "#####Remember, learning to code is a journey, and becoming proficient in Python takes time, practice, and persistence. Keep exploring, experimenting, and pushing yourself, and you'll continue to grow as a Python developer. Good luck, and happy coding!"
      ],
      "metadata": {
        "id": "keG66TywXSET"
      }
    }
  ]
}